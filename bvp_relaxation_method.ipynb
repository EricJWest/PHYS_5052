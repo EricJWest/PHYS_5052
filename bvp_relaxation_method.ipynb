{
 "cells": [
  {
   "cell_type": "markdown",
   "metadata": {},
   "source": [
    "# Boundary Value Problems Using Relaxation Methods\n",
    "---\n",
    "\n",
    "Consider the BVP\n",
    "\n",
    "$$\n",
    "  -u''(x) + \\sigma u(x) = f(x)\n",
    "  \\quad,\\quad\n",
    "  0 < x < 1\n",
    "  \\quad,\\quad\n",
    "  \\sigma \\geq 0\n",
    "$$\n",
    "\n",
    "$$\n",
    "  u(0) = a\n",
    "  \\quad,\\quad\n",
    "  u(1) = b\n",
    "$$\n",
    "\n",
    "Discretizing the problem on the grid $x_{j}=x_{0} + j\\Delta{x}$ for $j=0,\\ldots,N-1$, grid spacing $\\Delta{x}=h$, and treating the second derivative using a central difference approximation gives\n",
    "\n",
    "$$\n",
    "  -\\frac{1}{h^2}\\left(u_{j+1} - 2u_{j} + u_{j-1}\\right) \n",
    "  +\\sigma u_{j} = f_{j}\n",
    "$$\n",
    "\n",
    "and after re-arranging terms, this gives\n",
    "\n",
    "$$\n",
    "  u_{j}\n",
    "  =\n",
    "  \\frac{1}{2}\\left[u_{j+1} + \\sigma h^2 u_{j} + u_{j-1}\\right] \n",
    "  + \\frac{h^2}{2}f_{j}\n",
    "$$\n",
    "\n",
    "This can now be used as the basis of an iteration equation\n",
    "\n",
    "$$\n",
    "  u^{(n+1)}_{j}\n",
    "  =\n",
    "  \\frac{1}{2}\\left[u^{(n)}_{j+1} + \\sigma h^2 u^{(n)}_{j} + u^{(n)}_{j-1}\\right] \n",
    "  + \\frac{h^2}{2}f_{j}\n",
    "$$\n",
    "\n",
    "starting with an initial solution $u^{(0)}$."
   ]
  },
  {
   "cell_type": "code",
   "execution_count": 2,
   "metadata": {},
   "outputs": [],
   "source": [
    "import numpy as np\n",
    "import matplotlib.pyplot as plt"
   ]
  },
  {
   "cell_type": "code",
   "execution_count": null,
   "metadata": {
    "scrolled": true
   },
   "outputs": [],
   "source": [
    "## set physical parameters\n",
    "\n",
    "## set boundary conditions\n",
    "\n",
    "\n",
    "## create grid\n",
    "\n",
    "## initial solution\n",
    "\n",
    "\n",
    "## rhs function\n",
    "def f(x):\n",
    "    return 0.01*x\n",
    "\n",
    "## initialize solution array\n",
    "u = np.zeros_like(x)\n",
    "for j in range(N):\n",
    "    u[j] = u0(x[j])\n",
    "u[0]  = a\n",
    "u[-1] = b\n",
    "\n",
    "## iterate\n",
    "for n\n",
    "    for j\n",
    "    \n",
    "    if n%100 == 0:\n",
    "        plt.plot(x, u, 'r-')\n",
    "        plt.plot([xmin,xmax], [a,b], 'ks')\n",
    "        plt.show()"
   ]
  },
  {
   "cell_type": "code",
   "execution_count": 49,
   "metadata": {},
   "outputs": [
    {
     "data": {
      "image/png": "[encoded data removed]",
      "text/plain": [
       "<Figure size 432x288 with 1 Axes>"
      ]
     },
     "metadata": {
      "needs_background": "light"
     },
     "output_type": "display_data"
    }
   ],
   "source": []
  }
 ],
 "metadata": {
  "kernelspec": {
   "display_name": "Python 3",
   "language": "python",
   "name": "python3"
  },
  "language_info": {
   "codemirror_mode": {
    "name": "ipython",
    "version": 3
   },
   "file_extension": ".py",
   "mimetype": "text/x-python",
   "name": "python",
   "nbconvert_exporter": "python",
   "pygments_lexer": "ipython3",
   "version": "3.6.9"
  }
 },
 "nbformat": 4,
 "nbformat_minor": 2
}
