{
 "cells": [
  {
   "cell_type": "markdown",
   "metadata": {},
   "source": [
    "# Markov Chain Monte Carlo Simulation of an Ideal Gas\n",
    "---\n"
   ]
  },
  {
   "cell_type": "markdown",
   "metadata": {},
   "source": [
    "## 0. Theory\n"
   ]
  },
  {
   "cell_type": "markdown",
   "metadata": {},
   "source": [
    "## 1. Newman's MCMC Code\n",
    "Below is a slightly modified version of Newman's Markov chain Monte Carlo code for an ideal gas. Familiarize yourself with this code, run it, tinker with the parameters and re-run, etc. \n",
    "\n",
    "If you like, copy and paste Newman's version of the code. Or use the code here. Or re-type Newman's code yourself. Whatever you decide, just get a working MCMC code using this algorithm and familiarize yourself with it.\n",
    "\n",
    "For example, the code rejects a move if a particle tries to lower one of its quantum numbers below the ground state value. What part of the code enforces this condition? Try removing the condition and see what the code does instead."
   ]
  },
  {
   "cell_type": "code",
   "execution_count": 1,
   "metadata": {},
   "outputs": [],
   "source": [
    "import numpy as np\n",
    "import matplotlib.pyplot as plt"
   ]
  },
  {
   "cell_type": "code",
   "execution_count": 13,
   "metadata": {},
   "outputs": [],
   "source": [
    "## set parameters\n",
    "T = 10.0        #temperature\n",
    "N = 1000        #number of particles\n",
    "steps = 250000  #number of Monte Carlo steps\n",
    "\n",
    "## initialize state array to the ground state\n",
    "nstate = np.ones([N,3], int)\n",
    "\n",
    "## initialize total energy tracker\n",
    "estate = []\n",
    "E = 3*N * 0.5*np.pi*np.pi\n",
    "estate = [E]"
   ]
  },
  {
   "cell_type": "code",
   "execution_count": 14,
   "metadata": {},
   "outputs": [],
   "source": [
    "## mcmc loop\n",
    "for k in range(steps):\n",
    "    \n",
    "    ## select particle\n",
    "    i = np.random.randint(N)\n",
    "    \n",
    "    ## select x,y,z state\n",
    "    j = np.random.randint(3)\n",
    "    \n",
    "    ## choose the move\n",
    "    if np.random.random() < 0.5:\n",
    "        dn = 1\n",
    "        dE = 0.5*np.pi*np.pi*(1 + 2*nstate[i,j])\n",
    "    else:\n",
    "        dn = -1\n",
    "        dE = 0.5*np.pi*np.pi*(1 - 2*nstate[i,j])\n",
    "    \n",
    "    ## decide whether to accept the move\n",
    "    if nstate[i,j] > 1 or dn == 1:\n",
    "        if np.random.random() < np.exp(-dE/T):\n",
    "            nstate[i,j] += dn\n",
    "            E += dE\n",
    "    \n",
    "    estate.append(E)"
   ]
  },
  {
   "cell_type": "code",
   "execution_count": 15,
   "metadata": {
    "scrolled": false
   },
   "outputs": [
    {
     "data": {
      "image/png": "[encoded data removed]",
      "text/plain": [
       "<Figure size 432x288 with 1 Axes>"
      ]
     },
     "metadata": {
      "needs_background": "light"
     },
     "output_type": "display_data"
    }
   ],
   "source": [
    "## plot energy vs mcsteps\n",
    "mcsteps = np.arange(0, steps+1, 1)\n",
    "plt.plot(mcsteps, estate, 'r-')\n",
    "plt.xlabel('MC steps', fontsize=14)\n",
    "plt.ylabel('energy', fontsize=14)\n",
    "plt.title('Energy in an Ideal Gas', fontsize=16)\n",
    "plt.show()"
   ]
  },
  {
   "cell_type": "markdown",
   "metadata": {},
   "source": [
    "## 2. Plot Energy vs. Temperature\n",
    "To see whether the MCMC simulation agrees with the theory, re-run the code for the following (dimensionless) temperatures: 10, 50, 100, 150, 200, 250, 300. Measure the equilibrium energy for each temperature, and then plot energy versus temperature. Do your results agree with the theory of an ideal gas?\n",
    "\n",
    "TIPS:\n",
    "- ideally you do not want to duplicate the above code for each new experiment (temperature). Instead consider wrapping a function around the above code. Then you would only need to call that function with different temperatures. This is much less prone to introducing bugs than duplicating your code many times. Also, it makes your code easier to maintain in the future (e.g., if you decide to change the MCMC code in the future, you only have to make changes in one place inside the function).\n",
    "\n",
    "\n",
    "- test your function with just one or two temperatures first, before jumping right in to all seven temps.\n",
    "\n",
    "\n",
    "Other things to consider:\n",
    "\n",
    "- you need to determine how to calculate the equilibrium temperature. Think about how you would do that. Also decide whether you want to include that in your MCMC code, or keep it outside as a separate routine.\n",
    "\n",
    "\n",
    "- you need to make sure that your MCMC code has enough time to equilibrate at each temperature. Think about how you would choose the number of MC steps to ensure that. Do you want to handle it manually or automatically?"
   ]
  },
  {
   "cell_type": "code",
   "execution_count": null,
   "metadata": {},
   "outputs": [],
   "source": []
  }
 ],
 "metadata": {
  "kernelspec": {
   "display_name": "Python 3",
   "language": "python",
   "name": "python3"
  },
  "language_info": {
   "codemirror_mode": {
    "name": "ipython",
    "version": 3
   },
   "file_extension": ".py",
   "mimetype": "text/x-python",
   "name": "python",
   "nbconvert_exporter": "python",
   "pygments_lexer": "ipython3",
   "version": "3.6.9"
  }
 },
 "nbformat": 4,
 "nbformat_minor": 2
}
