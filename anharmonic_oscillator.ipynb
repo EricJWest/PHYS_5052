{
 "cells": [
  {
   "cell_type": "markdown",
   "metadata": {},
   "source": [
    "# Period of an Anharmonic Oscillator\n",
    "---\n",
    "(This activity is inspired by Exercise 5.10 in *Computational Physics*, by Mark Newman)\n",
    "\n",
    "**GOAL:** use numerical integration to calculate the period of an anharmonic oscillator\n",
    "\n",
    "**OUTCOMES:** after completing this activity, you will be able to do the following\n",
    "* implement trapezoid rule to perform numerical integration\n",
    "* validate code by comparing to an exactly solvable limit"
   ]
  },
  {
   "cell_type": "markdown",
   "metadata": {},
   "source": [
    "## 0. Theory \n",
    "\n",
    "A particle moving in a 1D potential $V(x)$ has total mechanical energy given by\n",
    "\n",
    "\\begin{equation}\n",
    "  E = \\frac{1}{2}m\\left(\\frac{dx}{dt}\\right)^2 + V(x)\n",
    "\\end{equation}\n",
    "\n",
    "Assumptions:\n",
    "- there are no dissipative forces present, like friction\n",
    "- the potential is bounded from below, for any energy: $V(x)\\rightarrow +\\infty$ as $x\\rightarrow \\pm\\infty$\n",
    "- the potential is symmetric: $V(-x) = V(x)$\n",
    "\n",
    "These assumptions guarantee that the particle's motion will be periodic, for any energy $E$, and that the half-period for $x>0$ is the same as the half-period for $x<0$. So it is sufficient to calculate the time $\\Delta{t}$ for the particle to move from $x=0$ to its maximum distance $x=a$. Because of symmetry, the period will be four times this value. \n",
    "\n",
    "Re-arranging the energy equation above gives\n",
    "\n",
    "\\begin{equation}\n",
    "  dt = \\sqrt{\\frac{m}{2}}\\frac{dx}{\\sqrt{E - V(x)}}\n",
    "\\end{equation}\n",
    "\n",
    "If we Integrating both sides from when the particle crosses $x=0$ to when it reaches its max distance $x=a$, and then multiply by 4, this yields the period of oscillations\n",
    "\n",
    "\\begin{equation}\n",
    "  T = \\sqrt{8m}\\int_{0}^{a}\\frac{dx}{\\sqrt{V(a) - V(x)}}\n",
    "\\end{equation}\n",
    "\n",
    "Given some potential, $V(x)$, this is the integral we want to perform numerically."
   ]
  },
  {
   "cell_type": "markdown",
   "metadata": {},
   "source": [
    "## 1. Exactly Solvable Limit\n",
    "In the case of the simple harmonic oscillator potential, $V(x)=\\tfrac{1}{2}kx^2$, the integral can be done by hand using a trig substitution, yielding the familiar expression $T = 2\\pi\\sqrt{\\frac{m}{k}}$. [OPTIONAL: verify this]\n",
    "\n",
    "For simplicity, let's use the harmonic oscillator with $k=1$ as our benchmark.\n",
    "\n",
    "Do:\n",
    "- Write a function that calculates the values of this potential, which takes $x$ as an argument.\n",
    "- Write a function that calculates the period of motion in this potential, which takes $m$ as an argument.\n",
    "- Test that your functions return the values you expect for the case $m=7$, $x=13$."
   ]
  },
  {
   "cell_type": "code",
   "execution_count": null,
   "metadata": {},
   "outputs": [],
   "source": []
  },
  {
   "cell_type": "markdown",
   "metadata": {},
   "source": [
    "## 2. Numerical Integration Code\n",
    "Use Newman's trapezoidal.py code (pp.142-143) as a template to implement the trapezoid rule to numerically calculate integrals. \n",
    "\n",
    "[OPTIONAL: Wrap the numerical integration routine inside of a function. The function should take as arguments the number of slices $N$, the leftmost value $a$, the rightmost value $b$, and an arbitrary function handle $f$. It should use those arguments to calculate $h$, compute the integral using the trapezoid rule, and then return the value of the integral.]\n",
    "\n",
    "\n",
    "Use your code to calculate the period of a simple harmonic oscillator, by computing the integral\n",
    "\n",
    "\\begin{equation}\n",
    "  T = \\sqrt{8m}\\int_{0}^{a}\\frac{dx}{\\sqrt{V(a) - V(x)}}\n",
    "\\end{equation}\n",
    "\n",
    "\n",
    "**TEST #1:** Validate your code by comparing the results to the exactly computed period using your function in Part 1. Compute the relative error for a few different values of $N$ (hopefully the error goes down as $N$ increases, at least until roundoff errors begin to dominate).\n",
    "\n",
    "**TEST #2:** Notice that the period of a simple harmonic oscillator does not depend on amplitude (see expression in Part 1). Validate your code by calculating the period for several amplitudes and check that there is no noticeable amplitude-dependence."
   ]
  },
  {
   "cell_type": "code",
   "execution_count": null,
   "metadata": {},
   "outputs": [],
   "source": []
  },
  {
   "cell_type": "markdown",
   "metadata": {},
   "source": [
    "## 3. Period of an Anharmonic Oscillator\n",
    "\n",
    "Now apply your code to a potential that is not exactly solvable, namely $V(x) = \\frac{1}{4}x^4 - \\frac{1}{2}x^2$. Construct a plot of period vs amplitude."
   ]
  },
  {
   "cell_type": "code",
   "execution_count": null,
   "metadata": {},
   "outputs": [],
   "source": []
  },
  {
   "cell_type": "markdown",
   "metadata": {},
   "source": [
    "## 4. Convergence Tests [OPTIONAL]\n",
    "Perform a convergence test of your code. Calculate the period of a simple harmonic oscillator for at least 5 different values of $N$ (number of slices used in your trapezoid integration). Then calculate the relative error for each choice of $N$ by comparing to the exact period. Finally plot the error vs $N$ on a log-log plot. If your error data roughly fall along a line, draw a straight line through the data, and determine the slope of that line.\n",
    "\n",
    "This can be repeated for the anharmonic oscillator, except now there is no exact solution to compare to. Nevertheless we can estimate the error $\\mathcal{E}_{N}$ for a given choice of $N$ slices by the method of \"interval doubling\". Let the period calculated for a given $N$ be denoted as $T_{N}$. Then the idea is to estimate the error in $T_{N}$ by calculating $T_{2N}$ and then calculating relative error in the usual way, assuming that $T_{2N}$ is good approximation to the \"exact\" value. In other words\n",
    "\n",
    "\\begin{equation}\n",
    "  \\mathcal{E}_{N} = \\left| \\frac{T_{2N} - T_{N}}{T_{2N}}\\right|\n",
    "\\end{equation}"
   ]
  },
  {
   "cell_type": "code",
   "execution_count": null,
   "metadata": {},
   "outputs": [],
   "source": []
  }
 ],
 "metadata": {
  "kernelspec": {
   "display_name": "Python 3",
   "language": "python",
   "name": "python3"
  },
  "language_info": {
   "codemirror_mode": {
    "name": "ipython",
    "version": 3
   },
   "file_extension": ".py",
   "mimetype": "text/x-python",
   "name": "python",
   "nbconvert_exporter": "python",
   "pygments_lexer": "ipython3",
   "version": "3.6.9"
  }
 },
 "nbformat": 4,
 "nbformat_minor": 2
}
