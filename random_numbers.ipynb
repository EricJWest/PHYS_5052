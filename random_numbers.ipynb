{
 "cells": [
  {
   "cell_type": "markdown",
   "metadata": {},
   "source": [
    "# Random Number Generators\n",
    "---\n",
    "Some basics about (psuedo)random number generators. "
   ]
  },
  {
   "cell_type": "code",
   "execution_count": 3,
   "metadata": {},
   "outputs": [],
   "source": [
    "import numpy as np\n",
    "import matplotlib.pyplot as plt"
   ]
  },
  {
   "cell_type": "markdown",
   "metadata": {},
   "source": [
    "## 1. Basic linear congruential generator"
   ]
  },
  {
   "cell_type": "code",
   "execution_count": 4,
   "metadata": {},
   "outputs": [],
   "source": [
    "### linear congruential generator ###\n",
    "def rand0(I0, length=1):\n",
    "    \"\"\"\n",
    "    Generates a scalar sequence of pseudorandom numbers between 0 and 1 \n",
    "    using example in Mark Newman's \"Computational Physics\".\n",
    "    \n",
    "    INPUT\n",
    "    I0       : initial seed\n",
    "    length   : length of sequence\n",
    "    \n",
    "    OUTPUT\n",
    "    ans      : output array of generated sequence\n",
    "\n",
    "    \"\"\"\n",
    "    ## Newman's example\n",
    "    a = 1664525      #multiplier\n",
    "    c = 1013904223   #increment\n",
    "    m = 4294967296   #modulus\n",
    "    \n",
    "    ## initialize output array\n",
    "    ans = np.zeros(length)\n",
    "    \n",
    "    ## initial seed\n",
    "    I = I0\n",
    "    \n",
    "    ## generate sequence\n",
    "    for i in range(length):\n",
    "        \n",
    "        ## calculate next element in sequence\n",
    "        I = (a*I + c) % m\n",
    "        \n",
    "        ## save value\n",
    "        ans[i] = float(I)/m\n",
    "\n",
    "    return ans"
   ]
  },
  {
   "cell_type": "code",
   "execution_count": 7,
   "metadata": {},
   "outputs": [
    {
     "data": {
      "text/plain": [
       "array([0.23645553, 0.36927067, 0.50424203, 0.70488326, 0.05054363,\n",
       "       0.36951835, 0.77476296, 0.55618857, 0.01649324, 0.63924604,\n",
       "       0.25045114, 0.42237777, 0.5906902 , 0.83693366, 0.23507592,\n",
       "       0.98084596, 0.86088709, 0.3268755 , 0.68260272, 0.53145911,\n",
       "       0.21594201, 0.10453423, 0.0705451 , 0.3188807 , 0.1298151 ,\n",
       "       0.70724642, 0.5828871 , 0.37931243, 0.262948  , 0.75090473,\n",
       "       0.93070092, 0.17727406, 0.33415103, 0.98324156, 0.38858492,\n",
       "       0.54804718, 0.46612322, 0.99433931, 0.87504692, 0.71140819,\n",
       "       0.95773013, 0.97499222, 0.1549578 , 0.37227524, 0.68616448,\n",
       "       0.16354471, 0.49220044, 0.17389427, 0.59211465, 0.87183136,\n",
       "       0.33063894, 0.01918909, 0.95106592, 0.23084339, 0.83153319,\n",
       "       0.02590057, 0.38385955, 0.04674674, 0.34552374, 0.13113986,\n",
       "       0.80963468, 0.40787667, 0.14731192, 0.61098065, 0.79427807,\n",
       "       0.933334  , 0.01116042, 0.03071553, 0.99750654, 0.80380782,\n",
       "       0.455339  , 0.39140141, 0.67170738, 0.96524984, 0.73364068,\n",
       "       0.488319  , 0.41566147, 0.14602524, 0.9020931 , 0.7469713 ,\n",
       "       0.63627422, 0.57816512, 0.53899029, 0.05224625, 0.42143935,\n",
       "       0.56334553, 0.94636975, 0.33636836, 0.77716047, 0.27421798,\n",
       "       0.91105973, 0.94126444, 0.43205551, 0.43171663, 0.35342202,\n",
       "       0.0209684 , 0.66236885, 0.74896695, 0.44191482, 0.49969006])"
      ]
     },
     "execution_count": 7,
     "metadata": {},
     "output_type": "execute_result"
    }
   ],
   "source": [
    "results = rand0(1, 100)\n",
    "results"
   ]
  },
  {
   "cell_type": "code",
   "execution_count": 9,
   "metadata": {},
   "outputs": [
    {
     "data": {
      "image/png": "[encoded data removed]",
      "text/plain": [
       "<Figure size 432x288 with 1 Axes>"
      ]
     },
     "metadata": {
      "needs_background": "light"
     },
     "output_type": "display_data"
    }
   ],
   "source": [
    "plt.plot(results, 'o')\n",
    "plt.show()"
   ]
  },
  {
   "cell_type": "markdown",
   "metadata": {},
   "source": [
    "## 2. Park and Miller's minimal standard LCG"
   ]
  },
  {
   "cell_type": "code",
   "execution_count": 10,
   "metadata": {},
   "outputs": [],
   "source": [
    "### Park and Miller's linear congruential generator ###\n",
    "def rand1(I0, length=1):\n",
    "    \"\"\"\n",
    "    Generates a scalar sequence of pseudorandom numbers between 0 and 1 \n",
    "    using Park and Miller's minimal standard.\n",
    "    \n",
    "    INPUT\n",
    "    I0       : initial seed\n",
    "    length   : length of sequence\n",
    "    \n",
    "    OUTPUT\n",
    "    ans      : output array of generated sequence\n",
    "\n",
    "    \"\"\"\n",
    "    ## Park and Miller's minimal standard\n",
    "    a = 7**5      #multiplier\n",
    "    c = 0         #increment\n",
    "    m = 2**31 - 1 #modulus\n",
    "    \n",
    "    ## initialize output array\n",
    "    ans = np.zeros(length)\n",
    "    \n",
    "    ## initial seed\n",
    "    I = I0\n",
    "    \n",
    "    ## generate sequence\n",
    "    for i in range(length):\n",
    "        \n",
    "        ## calculate next element in sequence\n",
    "        I = (a*I + c) % m\n",
    "        \n",
    "        ## save value\n",
    "        ans[i] = float(I)/m\n",
    "\n",
    "    return ans"
   ]
  },
  {
   "cell_type": "code",
   "execution_count": 11,
   "metadata": {},
   "outputs": [
    {
     "data": {
      "text/plain": [
       "array([7.82636926e-06, 1.31537788e-01, 7.55605322e-01, 4.58650132e-01,\n",
       "       5.32767237e-01, 2.18959186e-01, 4.70446162e-02, 6.78864717e-01,\n",
       "       6.79296406e-01, 9.34692896e-01, 3.83502077e-01, 5.19416372e-01,\n",
       "       8.30965346e-01, 3.45721105e-02, 5.34616350e-02, 5.29700193e-01,\n",
       "       6.71149384e-01, 7.69818621e-03, 3.83415651e-01, 6.68422375e-02,\n",
       "       4.17485974e-01, 6.86772712e-01, 5.88976643e-01, 9.30436495e-01,\n",
       "       8.46166891e-01, 5.26928778e-01, 9.19648908e-02, 6.53918962e-01,\n",
       "       4.15999357e-01, 7.01190594e-01, 9.10320830e-01, 7.62198040e-01,\n",
       "       2.62452994e-01, 4.74645137e-02, 7.36081885e-01, 3.28234226e-01,\n",
       "       6.32638568e-01, 7.56410486e-01, 9.91037386e-01, 3.65338671e-01,\n",
       "       2.47038886e-01, 9.82550286e-01, 7.22660401e-01, 7.53355835e-01,\n",
       "       6.51518575e-01, 7.26858829e-02, 6.31634718e-01, 8.84707129e-01,\n",
       "       2.72709967e-01, 4.36411406e-01, 7.66494778e-01, 4.77731765e-01,\n",
       "       2.37774434e-01, 2.74906840e-01, 3.59264979e-01, 1.66507200e-01,\n",
       "       4.86517383e-01, 8.97656287e-01, 9.09208102e-01, 6.05643275e-02,\n",
       "       9.04653092e-01, 5.04522895e-01, 5.16291964e-01, 3.19032941e-01,\n",
       "       9.86642112e-01, 4.93976685e-01, 2.66144507e-01, 9.07328949e-02,\n",
       "       9.47764250e-01, 7.37490752e-02, 5.00707095e-01, 3.84142148e-01,\n",
       "       2.77081800e-01, 9.13817442e-01, 5.29747394e-01, 4.64445825e-01,\n",
       "       9.40979954e-01, 5.00839837e-02, 7.61514262e-01, 7.70204547e-01,\n",
       "       8.27817300e-01, 1.25365376e-01, 1.58677013e-02, 6.88455301e-01,\n",
       "       8.68247132e-01, 6.29543418e-01, 7.36224514e-01, 7.25411998e-01,\n",
       "       9.99457879e-01, 8.88572214e-01, 2.33194878e-01, 3.06321831e-01,\n",
       "       3.51015248e-01, 5.13273702e-01, 5.91113583e-01, 8.45981560e-01,\n",
       "       4.12080771e-01, 8.41510639e-01, 2.69317272e-01, 4.15394616e-01])"
      ]
     },
     "execution_count": 11,
     "metadata": {},
     "output_type": "execute_result"
    }
   ],
   "source": [
    "results = rand1(1, 100)\n",
    "results"
   ]
  },
  {
   "cell_type": "code",
   "execution_count": 12,
   "metadata": {
    "scrolled": true
   },
   "outputs": [
    {
     "data": {
      "image/png": "[encoded data removed]",
      "text/plain": [
       "<Figure size 432x288 with 1 Axes>"
      ]
     },
     "metadata": {
      "needs_background": "light"
     },
     "output_type": "display_data"
    }
   ],
   "source": [
    "plt.plot(results, 'o')\n",
    "plt.show()"
   ]
  },
  {
   "cell_type": "markdown",
   "metadata": {},
   "source": [
    "## 3. Random sequences using Random library"
   ]
  },
  {
   "cell_type": "code",
   "execution_count": 52,
   "metadata": {},
   "outputs": [],
   "source": [
    "import random as rand"
   ]
  },
  {
   "cell_type": "code",
   "execution_count": 63,
   "metadata": {},
   "outputs": [
    {
     "data": {
      "text/plain": [
       "0.038551839337380045"
      ]
     },
     "execution_count": 63,
     "metadata": {},
     "output_type": "execute_result"
    }
   ],
   "source": [
    "rand.seed(43)\n",
    "rand.random()"
   ]
  },
  {
   "cell_type": "code",
   "execution_count": 65,
   "metadata": {},
   "outputs": [
    {
     "data": {
      "text/plain": [
       "2"
      ]
     },
     "execution_count": 65,
     "metadata": {},
     "output_type": "execute_result"
    }
   ],
   "source": [
    "rand.seed(1)\n",
    "rand.randrange(10)"
   ]
  },
  {
   "cell_type": "code",
   "execution_count": 67,
   "metadata": {},
   "outputs": [
    {
     "name": "stdout",
     "output_type": "stream",
     "text": [
      "[0.13436424411240122, 0.8474337369372327, 0.763774618976614, 0.2550690257394217, 0.49543508709194095, 0.4494910647887381, 0.651592972722763, 0.7887233511355132, 0.0938595867742349, 0.02834747652200631, 0.8357651039198697, 0.43276706790505337, 0.762280082457942, 0.0021060533511106927, 0.4453871940548014, 0.7215400323407826, 0.22876222127045265, 0.9452706955539223, 0.9014274576114836, 0.030589983033553536, 0.0254458609934608, 0.5414124727934966, 0.9391491627785106, 0.38120423768821243, 0.21659939713061338, 0.4221165755827173, 0.029040787574867943, 0.22169166627303505, 0.43788759365057206, 0.49581224138185065, 0.23308445025757263, 0.2308665415409843, 0.2187810373376886, 0.4596034657377336, 0.28978161459048557, 0.021489705265908876, 0.8375779756625729, 0.5564543226524334, 0.6422943629324456, 0.1859062658947177, 0.9925434121760651, 0.8599465287952899, 0.12088995980580641, 0.3326951853601291, 0.7214844075832684, 0.7111917696952796, 0.9364405867994596, 0.4221069999614152, 0.830035693274327, 0.670305566414071, 0.3033685109329176, 0.5875806061435594, 0.8824790008318577, 0.8461974184283128, 0.5052838205796004, 0.5890022579825517, 0.034525830151341586, 0.24273997354306764, 0.7974042475543028, 0.4143139993007743, 0.17300740157905092, 0.548798761388153, 0.7030407620656315, 0.6744858305023272, 0.3747030205016403, 0.4389616300445631, 0.5084264882499818, 0.7784426150001458, 0.5209384176131452, 0.39325509496422606, 0.4896935204622582, 0.029574963966907064, 0.04348729035652743, 0.703382088603836, 0.9831877173096739, 0.5931837303800576, 0.393599686377914, 0.17034919685568128, 0.5022385584334831, 0.9820766375385342, 0.7705231398308006, 0.5396174484497788, 0.8602897789205496, 0.23217612806301458, 0.513771663187637, 0.9524673882682695, 0.5777948078012031, 0.45913173191066836, 0.2692794774414212, 0.5479963094662489, 0.9571162814602269, 0.005709129450392925, 0.7836552326153898, 0.8204859119254819, 0.8861795808260082, 0.7405034118331963, 0.8091399008724796, 0.518678283523002, 0.561357864778379, 0.4260906796881502]\n"
     ]
    }
   ],
   "source": [
    "results = []\n",
    "rand.seed(1)\n",
    "for i in range(100):\n",
    "    results.append(rand.random())\n",
    "print(results)"
   ]
  },
  {
   "cell_type": "code",
   "execution_count": 68,
   "metadata": {},
   "outputs": [
    {
     "data": {
      "image/png": "[encoded data removed]",
      "text/plain": [
       "<Figure size 432x288 with 1 Axes>"
      ]
     },
     "metadata": {
      "needs_background": "light"
     },
     "output_type": "display_data"
    }
   ],
   "source": [
    "plt.plot(results, 'o')\n",
    "plt.show()"
   ]
  },
  {
   "cell_type": "markdown",
   "metadata": {},
   "source": [
    "## 4. Random sequences using NumPy's random( )"
   ]
  },
  {
   "cell_type": "code",
   "execution_count": 48,
   "metadata": {},
   "outputs": [
    {
     "data": {
      "text/plain": [
       "0.11505456638977896"
      ]
     },
     "execution_count": 48,
     "metadata": {},
     "output_type": "execute_result"
    }
   ],
   "source": [
    "np.random.seed(43)\n",
    "np.random.random()"
   ]
  },
  {
   "cell_type": "code",
   "execution_count": 50,
   "metadata": {},
   "outputs": [
    {
     "data": {
      "text/plain": [
       "array([4.17022005e-01, 7.20324493e-01, 1.14374817e-04, 3.02332573e-01,\n",
       "       1.46755891e-01, 9.23385948e-02, 1.86260211e-01, 3.45560727e-01,\n",
       "       3.96767474e-01, 5.38816734e-01, 4.19194514e-01, 6.85219500e-01,\n",
       "       2.04452250e-01, 8.78117436e-01, 2.73875932e-02, 6.70467510e-01,\n",
       "       4.17304802e-01, 5.58689828e-01, 1.40386939e-01, 1.98101489e-01,\n",
       "       8.00744569e-01, 9.68261576e-01, 3.13424178e-01, 6.92322616e-01,\n",
       "       8.76389152e-01, 8.94606664e-01, 8.50442114e-02, 3.90547832e-02,\n",
       "       1.69830420e-01, 8.78142503e-01, 9.83468338e-02, 4.21107625e-01,\n",
       "       9.57889530e-01, 5.33165285e-01, 6.91877114e-01, 3.15515631e-01,\n",
       "       6.86500928e-01, 8.34625672e-01, 1.82882773e-02, 7.50144315e-01,\n",
       "       9.88861089e-01, 7.48165654e-01, 2.80443992e-01, 7.89279328e-01,\n",
       "       1.03226007e-01, 4.47893526e-01, 9.08595503e-01, 2.93614148e-01,\n",
       "       2.87775339e-01, 1.30028572e-01, 1.93669579e-02, 6.78835533e-01,\n",
       "       2.11628116e-01, 2.65546659e-01, 4.91573159e-01, 5.33625451e-02,\n",
       "       5.74117605e-01, 1.46728575e-01, 5.89305537e-01, 6.99758360e-01,\n",
       "       1.02334429e-01, 4.14055988e-01, 6.94400158e-01, 4.14179270e-01,\n",
       "       4.99534589e-02, 5.35896406e-01, 6.63794645e-01, 5.14889112e-01,\n",
       "       9.44594756e-01, 5.86555041e-01, 9.03401915e-01, 1.37474704e-01,\n",
       "       1.39276347e-01, 8.07391289e-01, 3.97676837e-01, 1.65354197e-01,\n",
       "       9.27508580e-01, 3.47765860e-01, 7.50812103e-01, 7.25997985e-01,\n",
       "       8.83306091e-01, 6.23672207e-01, 7.50942434e-01, 3.48898342e-01,\n",
       "       2.69927892e-01, 8.95886218e-01, 4.28091190e-01, 9.64840047e-01,\n",
       "       6.63441498e-01, 6.21695720e-01, 1.14745973e-01, 9.49489259e-01,\n",
       "       4.49912133e-01, 5.78389614e-01, 4.08136803e-01, 2.37026980e-01,\n",
       "       9.03379521e-01, 5.73679487e-01, 2.87032703e-03, 6.17144914e-01])"
      ]
     },
     "execution_count": 50,
     "metadata": {},
     "output_type": "execute_result"
    }
   ],
   "source": [
    "np.random.seed(1)\n",
    "np.random.random((100, ))"
   ]
  },
  {
   "cell_type": "code",
   "execution_count": 51,
   "metadata": {
    "scrolled": true
   },
   "outputs": [
    {
     "data": {
      "image/png": "[encoded data removed]",
      "text/plain": [
       "<Figure size 432x288 with 1 Axes>"
      ]
     },
     "metadata": {
      "needs_background": "light"
     },
     "output_type": "display_data"
    }
   ],
   "source": [
    "plt.plot(results, 'o')\n",
    "plt.show()"
   ]
  },
  {
   "cell_type": "markdown",
   "metadata": {},
   "source": [
    "## 5. Random arrays using NumPy's random()"
   ]
  },
  {
   "cell_type": "code",
   "execution_count": 49,
   "metadata": {},
   "outputs": [
    {
     "data": {
      "text/plain": [
       "array([[0.11505457, 0.60906654, 0.13339096],\n",
       "       [0.24058962, 0.32713906, 0.85913749]])"
      ]
     },
     "execution_count": 49,
     "metadata": {},
     "output_type": "execute_result"
    }
   ],
   "source": [
    "np.random.seed(43)\n",
    "np.random.random((2,3))"
   ]
  },
  {
   "cell_type": "code",
   "execution_count": 17,
   "metadata": {},
   "outputs": [
    {
     "data": {
      "text/plain": [
       "array([[31.6096471 ,  7.66627   , 84.32246942],\n",
       "       [84.89391477, 97.14650914, 38.53769144]])"
      ]
     },
     "execution_count": 17,
     "metadata": {},
     "output_type": "execute_result"
    }
   ],
   "source": [
    "def randAB(a, b, size=None):\n",
    "    shift = a\n",
    "    scale = b - a\n",
    "    rnums = np.random.random_sample(size)\n",
    "    ans = (scale*rnums) + shift\n",
    "    return ans\n",
    "\n",
    "## random number between a and b\n",
    "a = 0\n",
    "b = 100\n",
    "randAB(a,b, (2,3))"
   ]
  },
  {
   "cell_type": "markdown",
   "metadata": {},
   "source": [
    "## 6. Chi-squared tests\n",
    "\n",
    "How can you test the distribution of random numbers? One way to do this is using a chi-squared test.\n",
    "\n",
    "\\begin{equation}\n",
    "  \\chi^2 = \\sum_{i=1}^{k}\\frac{(N_{o,i} - N_{e})^2}{N_{e}}\n",
    "\\end{equation}\n",
    "\n",
    "Do this for 1000 experiments, then sort into 100 bins and calculate the total chi-squared estimate $\\chi_{T}^2$, given by\n",
    "\n",
    "\\begin{equation}\n",
    "  \\chi_{T}^2 = \\sum_{j=1}^{100}\\frac{(\\chi^2_{j} - 10)^2}{10}\n",
    "\\end{equation}\n",
    "\n",
    "Finally, compare this to $\\chi^2_{[1-\\alpha; k-1]}$ to decide whether the random number generator in question produces numbers that are uniformly distributed. If $\\chi_{T}^2 \\leq \\chi^2_{[1-\\alpha; k-1]}$, then the hypothesis (that the distribution is uniform) cannot be rejected at the confidence level $\\alpha$. "
   ]
  },
  {
   "cell_type": "code",
   "execution_count": null,
   "metadata": {},
   "outputs": [],
   "source": []
  }
 ],
 "metadata": {
  "kernelspec": {
   "display_name": "Python 3",
   "language": "python",
   "name": "python3"
  },
  "language_info": {
   "codemirror_mode": {
    "name": "ipython",
    "version": 3
   },
   "file_extension": ".py",
   "mimetype": "text/x-python",
   "name": "python",
   "nbconvert_exporter": "python",
   "pygments_lexer": "ipython3",
   "version": "3.6.9"
  }
 },
 "nbformat": 4,
 "nbformat_minor": 2
}
