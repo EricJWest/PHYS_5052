{
 "cells": [
  {
   "cell_type": "markdown",
   "metadata": {},
   "source": [
    "# Boundary Value Problems Using Direct Methods\n",
    "---\n",
    "\n",
    "Consider the BVP\n",
    "\n",
    "$$\n",
    "  -u''(x) + \\sigma u(x) = f(x)\n",
    "  \\quad,\\quad\n",
    "  0 < x < 1\n",
    "  \\quad,\\quad\n",
    "  \\sigma \\geq 0\n",
    "$$\n",
    "\n",
    "$$\n",
    "  u(0) = a\n",
    "  \\quad,\\quad\n",
    "  u(1) = b\n",
    "$$\n",
    "\n",
    "Discretizing the problem on the grid $x_{j}=x_{0} + j\\Delta{x}$ for $j=0,\\ldots,N-1$, grid spacing $\\Delta{x}=h$, and treating the second derivative using a central difference approximation gives\n",
    "\n",
    "$$\n",
    "  -\\frac{1}{h^2}\\left(u_{j+1} - 2u_{j} + u_{j-1}\\right) \n",
    "  +\\sigma u_{j} = f_{j}\n",
    "$$\n",
    "\n",
    "and after re-grouping terms, this gives\n",
    "\n",
    "$$\n",
    "  \\alpha_{j}u_{j-1} \n",
    "  + \\beta_{j}u_{j} \n",
    "  + \\gamma_{j}u_{j+1}\n",
    "  = f_{j}\n",
    "$$\n",
    "\n",
    "where\n",
    "\n",
    "$$\n",
    "  \\alpha_{j} = -1\n",
    "  \\quad,\\quad\n",
    "  \\beta_{j} = 2+\\sigma h^2\n",
    "  \\quad,\\quad\n",
    "  \\gamma_{j} = -1\n",
    "$$"
   ]
  },
  {
   "cell_type": "code",
   "execution_count": null,
   "metadata": {},
   "outputs": [],
   "source": [
    "import numpy as np\n",
    "import scipy.linalg as la\n",
    "import matplotlib.pyplot as plt"
   ]
  },
  {
   "cell_type": "code",
   "execution_count": null,
   "metadata": {},
   "outputs": [],
   "source": [
    "## create grid\n",
    "xmin = 0\n",
    "xmax = 10\n",
    "N = 11\n",
    "h = (xmax - xmin)/N\n",
    "x = np.linspace(xmin, xmax, N)\n",
    "print(x)\n",
    "\n",
    "## setup matrix\n",
    "A = np.zeros((N,N))\n",
    "\n",
    "np.fill_diagonal(A[1:-1, 0:], x[0:]) \n",
    "np.fill_diagonal(A[1:-1, 1:], x[1:])\n",
    "np.fill_diagonal(A[1:-1, 2:], x[2:])\n",
    "A[0,0] = 1\n",
    "A[-1,-1] = 1\n",
    "\n",
    "#np.fill_diagonal(A[1:, 0:], x[0:]) \n",
    "#np.fill_diagonal(A[0:, 0:], x[0:])\n",
    "#np.fill_diagonal(A[0:, 1:], x[1:])\n",
    "\n",
    "plt.spy(A)\n",
    "plt.show()\n",
    "print(A)"
   ]
  },
  {
   "cell_type": "code",
   "execution_count": null,
   "metadata": {
    "scrolled": true
   },
   "outputs": [],
   "source": [
    "## set physical parameters\n",
    "\n",
    "## set boundary conditions\n",
    "\n",
    "\n",
    "## create grid\n",
    "\n",
    "\n",
    "## setup matrix\n",
    "\n",
    "\n",
    "## rhs function\n",
    "def f(x):\n",
    "    return 0.01*x\n",
    "\n",
    "## setup rhs vector\n",
    "B = np.zeros(N)\n",
    "for j in range(1,N):\n",
    "    B[j] = f(x[j])\n",
    "\n",
    "B[0] = a\n",
    "B[-1] = b"
   ]
  },
  {
   "cell_type": "code",
   "execution_count": null,
   "metadata": {},
   "outputs": [],
   "source": [
    "usoln = la.solve(A, B)"
   ]
  },
  {
   "cell_type": "code",
   "execution_count": null,
   "metadata": {},
   "outputs": [],
   "source": [
    "plt.plot(x, usoln, 'r-')\n",
    "plt.plot([xmin,xmax], [a,b], 'ks')\n",
    "plt.show()"
   ]
  }
 ],
 "metadata": {
  "kernelspec": {
   "display_name": "Python 3",
   "language": "python",
   "name": "python3"
  },
  "language_info": {
   "codemirror_mode": {
    "name": "ipython",
    "version": 3
   },
   "file_extension": ".py",
   "mimetype": "text/x-python",
   "name": "python",
   "nbconvert_exporter": "python",
   "pygments_lexer": "ipython3",
   "version": "3.6.9"
  }
 },
 "nbformat": 4,
 "nbformat_minor": 2
}
