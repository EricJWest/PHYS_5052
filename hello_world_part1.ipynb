{
 "cells": [
  {
   "cell_type": "markdown",
   "metadata": {},
   "source": [
    "# Hello World, Part 1\n",
    "---\n",
    "**GOAL:** write a hello world program.\n",
    "\n",
    "**OUTCOMES:** after completing this activity, you will be able to do the following\n",
    "\n",
    "* create simple programs\n",
    "* run simple programs\n",
    "* print output to the screen"
   ]
  },
  {
   "cell_type": "markdown",
   "metadata": {},
   "source": [
    "## Exercise\n",
    "\n",
    "Create a program called `hello_world.py` (PYTHON) or `hello_world.m` (MATLAB) which prints the string \"Hello world!\" to the screen when the program is run.\n",
    "\n",
    "The program should be run from a command line using the appropriate command below.\n",
    "\n",
    "PYTHON: \n",
    "\n",
    "`$ python hello_world.py`\n",
    "\n",
    "MATLAB: \n",
    "\n",
    "`$ matlab -batch \"hello_world\"`\n",
    "\n",
    "NOTE #1: In case you are new to reading command line commands, the `$` above denotes the prompt, not part of the command. The command is everything that follows after the `$`.\n",
    "\n",
    "NOTE #2: If you are programming in a langauge other than Python or Matlab, it is assumed that you know how to modify the above instructions."
   ]
  },
  {
   "cell_type": "code",
   "execution_count": null,
   "metadata": {},
   "outputs": [],
   "source": []
  }
 ],
 "metadata": {
  "kernelspec": {
   "display_name": "Python 3",
   "language": "python",
   "name": "python3"
  },
  "language_info": {
   "codemirror_mode": {
    "name": "ipython",
    "version": 3
   },
   "file_extension": ".py",
   "mimetype": "text/x-python",
   "name": "python",
   "nbconvert_exporter": "python",
   "pygments_lexer": "ipython3",
   "version": "3.6.9"
  }
 },
 "nbformat": 4,
 "nbformat_minor": 2
}
