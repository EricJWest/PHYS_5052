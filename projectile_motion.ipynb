{
 "cells": [
  {
   "cell_type": "markdown",
   "metadata": {},
   "source": [
    "LaTeX header (do not delete)\n",
    "$$\n",
    "\\newcommand{\\matrix}[1]{\\boldsymbol{\\mathsf{#1}}}\n",
    "\\newcommand{\\vect}[1]{\\boldsymbol{\\vec{\\mathrm{#1}}}}\n",
    "\\newcommand{\\uvect}[1]{\\boldsymbol{\\hat{\\mathrm{#1}}}}\n",
    "$$"
   ]
  },
  {
   "cell_type": "markdown",
   "metadata": {},
   "source": [
    "# Projectile Motion\n",
    "---\n",
    "**GOAL:** implement fourth-order Runge-Kutta scheme to solve projectile motion in the presence of air resistance\n",
    "\n",
    "**OUTCOMES:** after completing this activity, you will be able to do the following\n",
    "* write a simple (fixed stepsize) ODEdriver function for solving ODE-IVP's\n",
    "* write an ODEstep function for solving a single step of an ODE-IVP \n",
    "* write a RHS function for solving ODE-IVP's\n",
    "* numerically solve systems of second-order ODE's by reducing to a system of first-order ODE's"
   ]
  },
  {
   "cell_type": "markdown",
   "metadata": {},
   "source": [
    "## 0. Theory\n",
    "\n",
    "### Exact solution without air resistance\n",
    "\n",
    "Projectile motion in the absence of air resistance:\n",
    "\n",
    "\\begin{align}\n",
    "  & x(t) = x_{0} + v_{0x}t \\\\\n",
    "  & y(t) = y_{0} + v_{0y}t - \\frac{1}{2}gt^2\n",
    "\\end{align}\n",
    "\n",
    "### ODE for projectile with air resistance\n",
    "\n",
    "Model for air resistance:\n",
    "\n",
    "\\begin{align}\n",
    "  \\vect{f}_\\mathrm{air} = -\\frac{1}{2}C_{d}\\rho A |\\vect{v}|\\vect{v}\n",
    "\\end{align}\n",
    "\n",
    "Leads to equations of motion:\n",
    "\n",
    "\\begin{align}\n",
    "  & \\ddot{x} = -\\frac{1}{2m}C_{d}\\rho A |\\vect{v}| v_{x} \\\\\n",
    "  & \\ddot{y} = -g - \\frac{1}{2m}C_{d}\\rho A |\\vect{v}| v_{y} \\\\\n",
    "\\end{align}\n",
    "\n",
    "Leads to the system of ODE's:\n",
    "\n",
    "\\begin{align}\n",
    "  \\frac{d\\vect{u}}{dt} = \\vect{F}(t, \\vect{u})\n",
    "  \\quad,\\quad\\text{with}\\quad\n",
    "  \\vect{u} = \n",
    "  \\left(\\begin{array}{c}\n",
    "    x \\\\\n",
    "    y \\\\\n",
    "    v_{x} \\\\\n",
    "    v_{y}\n",
    "  \\end{array}\\right)\n",
    "  \\quad,\\quad\n",
    "  \\vect{F} = \n",
    "  \\left(\\begin{array}{c}\n",
    "    v_{x} \\\\\n",
    "    v_{y} \\\\\n",
    "    -\\frac{1}{2m}C_{d}\\rho A |\\vect{v}| v_{x} \\\\\n",
    "    -g - \\frac{1}{2m}C_{d}\\rho A |\\vect{v}| v_{y}\n",
    "  \\end{array}\\right)\n",
    "\\end{align}\n",
    "\n"
   ]
  },
  {
   "cell_type": "code",
   "execution_count": null,
   "metadata": {},
   "outputs": [],
   "source": [
    "### main() ###\n",
    "\n",
    "## import libraries\n",
    "\n",
    "## set physical parameters\n",
    "grav = 9.81    #gravitational acceleration (m/s^2) \n",
    "mass = 0.145   #mass of projectile (kg)\n",
    "area = 4.3e-3  #cross-sectional area of projectile (m^2) \n",
    "drag = 0.35    #drag coefficient (dimensionless) \n",
    "#rho  = 0    #no air\n",
    "rho  = 1.20    #density of air (kg/m^3)\n",
    "params = [grav, mass, area, drag, rho]\n",
    "k = 0.5*drag*rho*area/mass \n",
    "\n",
    "## create time grid, number of steps, step size \n",
    "\n",
    "## set initial conditions\n",
    "\n",
    "## call ODEdriver()\n",
    "times, evols = odesolve(t0, u0, h, Nmax, rk4step, air_rhs)\n",
    "\n",
    "## call NoAir()\n",
    "\n",
    "## plot solution and compare to no-air"
   ]
  },
  {
   "cell_type": "code",
   "execution_count": null,
   "metadata": {},
   "outputs": [],
   "source": [
    "### ODEdriver() ###\n",
    "def odesolve(t0, u0, h, params, ODEstep, RHS):\n",
    "\n",
    "    ## initialize solution array\n",
    "\n",
    "    ## loop until max step is reached\n",
    "\n",
    "        ## call ODEstep()\n",
    "        tnew, unew = ODEstep(t, u, h, params, RHS)\n",
    "    \n",
    "        ## update evolution variables\n",
    "    \n",
    "        ## update solution array\n",
    "    "
   ]
  },
  {
   "cell_type": "code",
   "execution_count": null,
   "metadata": {},
   "outputs": [],
   "source": [
    "### ODEstep() ###\n",
    "def rk4step(t, u, h, params, RHS):\n",
    "    \n",
    "    ## parse input array\n",
    "\n",
    "    ## set RK coefficients\n",
    "\n",
    "    ## calculate RK stages using calls to RHS()\n",
    "    \n",
    "    ## calculate new solution"
   ]
  },
  {
   "cell_type": "code",
   "execution_count": null,
   "metadata": {},
   "outputs": [],
   "source": [
    "### RHS() ###\n",
    "def air_rhs(t, u, params):\n",
    "    "
   ]
  },
  {
   "cell_type": "code",
   "execution_count": null,
   "metadata": {},
   "outputs": [],
   "source": [
    "### NoAir() ###\n"
   ]
  }
 ],
 "metadata": {
  "kernelspec": {
   "display_name": "Python 3",
   "language": "python",
   "name": "python3"
  },
  "language_info": {
   "codemirror_mode": {
    "name": "ipython",
    "version": 3
   },
   "file_extension": ".py",
   "mimetype": "text/x-python",
   "name": "python",
   "nbconvert_exporter": "python",
   "pygments_lexer": "ipython3",
   "version": "3.6.9"
  }
 },
 "nbformat": 4,
 "nbformat_minor": 2
}
