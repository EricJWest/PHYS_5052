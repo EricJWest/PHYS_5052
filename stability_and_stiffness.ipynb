{
 "cells": [
  {
   "cell_type": "markdown",
   "metadata": {},
   "source": [
    "# Stability and Stiffness\n",
    "---\n"
   ]
  },
  {
   "cell_type": "markdown",
   "metadata": {},
   "source": [
    "## Test Equation\n",
    "\n",
    "IVP:\n",
    "\n",
    "$$\n",
    "  \\frac{dy}{dt} = \\mu y(t)\n",
    "  \\quad,\\quad\n",
    "  y(0) = 1\n",
    "$$\n",
    "\n",
    "Exact solution:\n",
    "\n",
    "$$\n",
    "  \\hat{y}(t) = e^{\\mu t}\n",
    "$$\n",
    "\n",
    "**TO DO:**\n",
    "\n",
    "- Write a function to calculate this exact solution and plot for $\\mu=-2$.\n",
    "- Plot the exact solution."
   ]
  },
  {
   "cell_type": "code",
   "execution_count": null,
   "metadata": {
    "scrolled": true
   },
   "outputs": [],
   "source": []
  },
  {
   "cell_type": "markdown",
   "metadata": {},
   "source": [
    "## Euler method\n",
    "\n",
    "Applying Euler's method to the test problem gives\n",
    "\n",
    "\\begin{align*}\n",
    "  y_{n+1} &= y_{n} + hF(t_{n}, y_{n}) \\\\\n",
    "  &= y_{n} + h \\mu y_{n} \\\\\n",
    "  &= (1 + \\mu h)y_{n}\n",
    "\\end{align*}\n",
    "\n",
    "whose solution for the $N$th step is\n",
    "\n",
    "$$\n",
    "  y_{N-1} = (1 + \\mu h)^{N-1}\n",
    "$$\n",
    "\n",
    "where the initial condition $y_{0}=1$ has been used. Demanding that solutions decay, to mimic the behavior of the exact solution, places the following stability constraint on the step size\n",
    "\n",
    "$$\n",
    "  h < \\frac{2}{|\\mu|}\n",
    "$$\n",
    "\n",
    "**TO DO:**\n",
    "\n",
    "- Write an ODEsolver (or use one you've already written) to solve this IVP with $\\mu=-2$. \n",
    "- Plot your numerical solution along with the exact solution. Verify the stability condition above by trying different step sizes.\n",
    "- Try solving using RK4 instead. What do you notice about the stability of RK4 compared to Euler?"
   ]
  },
  {
   "cell_type": "code",
   "execution_count": null,
   "metadata": {},
   "outputs": [],
   "source": []
  },
  {
   "cell_type": "markdown",
   "metadata": {},
   "source": [
    "## Backward Euler method\n",
    "\n",
    "The so-called backward Euler's method uses backward finite difference steps instead of forward finite difference steps. The resulting scheme is given by \n",
    "\n",
    "$$\n",
    "  y_{n+1} = y_{n} + hF(t_{n+1}, y_{n+1})\n",
    "$$\n",
    "\n",
    "Notice that this is an *implicit* method, because of the presence of $y_{n+1}$ on the right-hand side of the equation. Applying this to the above test problem gives\n",
    "\n",
    "$$\n",
    "  y_{n+1} = \\frac{y_{n}}{(1 - \\mu h)}\n",
    "$$\n",
    "\n",
    "whose solution for the $N$th step is\n",
    "\n",
    "$$\n",
    "  y_{N-1} = (1 + \\mu h)^{N-1}\n",
    "$$\n",
    "\n",
    "where again the initial condition $y_{0}=1$ has been used. Demanding that solutions decay, to mimic the behavior of the exact solution, places no constraint on the step size whatsoever. You would still want small step sizes to ensure accuracy of the solution. But even an inaccurate solution would remain stable.\n",
    "\n",
    "**TO DO:**\n",
    "\n",
    "- Nothing. Unfortunately we are not yet equipped to implement implicit schemes. But just notice that the implicit (backwards) Euler method, once implemented, would not be susceptible to the same stability restrictions as the explicit (forwards) Euler scheme. This is a general trend. Implicit methods are often more stable than their explicit couterparts. The downside is that they are more coputationally expensive to solve, as we will see later."
   ]
  },
  {
   "cell_type": "markdown",
   "metadata": {},
   "source": [
    "## A Stiff Equation\n",
    "\n",
    "Consider the following IVP\n",
    "\n",
    "$$\n",
    "  \\frac{dy}{dt} = 501e^{t} - 500y(t)\n",
    "  \\quad;\\quad\n",
    "  y(0) = 0\n",
    "$$\n",
    "\n",
    "with exact solution\n",
    "\n",
    "$$\n",
    "  \\hat{y}(t) = e^{t} - e^{-500t}\n",
    "$$\n",
    "\n",
    "**TO DO:**\n",
    "\n",
    "- Solve using Euler method and plot along with the exact solution.\n",
    "- Repeat using RK4."
   ]
  },
  {
   "cell_type": "code",
   "execution_count": null,
   "metadata": {},
   "outputs": [],
   "source": []
  }
 ],
 "metadata": {
  "kernelspec": {
   "display_name": "Python 3",
   "language": "python",
   "name": "python3"
  },
  "language_info": {
   "codemirror_mode": {
    "name": "ipython",
    "version": 3
   },
   "file_extension": ".py",
   "mimetype": "text/x-python",
   "name": "python",
   "nbconvert_exporter": "python",
   "pygments_lexer": "ipython3",
   "version": "3.6.9"
  }
 },
 "nbformat": 4,
 "nbformat_minor": 2
}
