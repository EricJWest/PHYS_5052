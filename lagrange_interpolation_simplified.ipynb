{
 "cells": [
  {
   "cell_type": "markdown",
   "metadata": {},
   "source": [
    "# Lagrange Interpolation\n",
    "---\n",
    "**GOAL:** write a code to calculate and plot an interpolating polynomial through a set of data points\n",
    "\n",
    "**OUTCOMES:** after completing this activity, you will be able to do the following\n",
    "* read pseudocode\n",
    "* store user-defined functions in their own files\n",
    "* call functions from separate files\n",
    "* call functions from a scientific library\n",
    "* interpolate Bessel functions of the first kind to arbitrary order"
   ]
  },
  {
   "cell_type": "markdown",
   "metadata": {},
   "source": [
    "## 0. Introduction (Theory)\n",
    "\n",
    "Suppose we are given values of some function $f(x_{0}),\\ldots,f(x_{n})$, at the points $x_{0},\\ldots,x_{n}$. The function $f(x)$ itself may be unknown to us. For example it might represent some empirical relationship that we only have in tabulated form. Alternatively, $f(x)$ might be a function we know the name of, but it might be computationally expensive to calculate at arbitrary points. Whatever the case, assume we need to approximate the function $f(x)$ by a polynomial $p(x)$ that exactly passes through the given $n+1$ points. This procedure is called interpolation.\n",
    "\n",
    "NOTE: Here we are only considering a specific form of polynomial interpolation, called \"Lagrange interpolation\", for the sake of illustration. There are other forms of interpolation (Hermite, cubic spline, etc) that are sometimes more appropriate. We will say more about interpolation later in the course. For now, just try to get the gist of what is going on in this special case.\n",
    "\n",
    "The unique polynomial of degree $n$ that interpolates the given $n+1$ points is given by\n",
    "\n",
    "\\begin{equation}\n",
    "   p(x) = L_{0}(x)f(x_{0}) + \\cdots + L_{n}(x)f(x_{n})\n",
    "   = \\sum_{i=0}^{n} L_{i}(x) f(x_{i}),\n",
    "\\end{equation}\n",
    "\n",
    "where the Lagrangian coefficient functions are given by\n",
    "\n",
    "\\begin{equation}\n",
    "   L_{i}(x) = \\prod_{j=0, j\\neq i}^{n}\\frac{(x - x_{j})}{(x_{i} - x_{j})}\n",
    "\\end{equation}\n",
    "\n",
    "It may help to look at the first few special cases in order to fully appreciate the general formula above.\n",
    "\n",
    "**Linear interpolation (n=1):**\n",
    "\n",
    "Given two values, $f(x_{0})$ and $f(x_{1})$, at points $x_{0}$ and $x_{1}$, respectively, the unique line (polynomial of degree $n=1$) that passes through these points is given by\n",
    "\n",
    "\\begin{equation}\n",
    "   p(x) = L_{0}(x)f(x_{0}) + L_{1}(x)f(x_{1}),\n",
    "\\end{equation}\n",
    "\n",
    "where\n",
    "\n",
    "\\begin{equation}\n",
    "   L_{0}(x) = \\frac{(x - x_{1})}{(x_{0} - x_{1})} \n",
    "   \\quad\\text{and}\\quad \n",
    "   L_{1}(x) = \\frac{(x - x_{0})}{(x_{1} - x_{0})}.\n",
    "\\end{equation}\n",
    "\n",
    "**Quadratic interpolation (n=2):**\n",
    "\n",
    "Given three values, $f(x_{0})$, $f(x_{1})$, and $f(x_{2})$ at points $x_{0}$, $x_{1}$, and $x_{2}$, respectively, the unique parabola (polynomial of degree $n=2$) that passes through these points is given by\n",
    "\n",
    "\\begin{equation}\n",
    "   p(x) = L_{0}(x)f(x_{0}) + L_{1}(x)f(x_{1}) +  L_{2}(x)f(x_{2})\n",
    "\\end{equation}\n",
    "\n",
    "where \n",
    "\n",
    "\\begin{equation}\n",
    "   L_{0}(x) = \\frac{(x - x_{1})(x - x_{2})}{(x_{0} - x_{1})(x_{0} - x_{2})}\n",
    "   \\quad,\\quad\n",
    "   L_{1}(x) = \\frac{(x - x_{0})(x - x_{2})}{(x_{1} - x_{0})(x_{1} - x_{2})}\n",
    "   \\quad,\\quad\n",
    "   L_{2}(x) = \\frac{(x - x_{0})(x - x_{1})}{(x_{2} - x_{0})(x_{2} - x_{1})}.\n",
    "\\end{equation}\n",
    "\n",
    "**Cubic interpolation (n=3):**\n",
    "\n",
    "Given four values, $f(x_{0})$, $f(x_{1})$, $f(x_{2})$ and $f(x_{3})$ at points $x_{0}$, $x_{1}$, $x_{2}$ and $x_{3}$, respectively, the unique cubic (polynomial of degree $n=3$) that passes through these points is given by\n",
    "\n",
    "\\begin{equation}\n",
    "   p(x) = L_{0}(x)f(x_{0}) + L_{1}(x)f(x_{1}) +  L_{2}(x)f(x_{2}) +  L_{3}(x)f(x_{3})\n",
    "\\end{equation}\n",
    "\n",
    "where \n",
    "\n",
    "\\begin{align}\n",
    "   & L_{0}(x) = \\frac{(x - x_{1})(x - x_{2})(x - x_{3})}{(x_{0} - x_{1})(x_{0} - x_{2})(x_{0} - x_{3})}\n",
    "   \\quad,\\quad\n",
    "   L_{1}(x) = \\frac{(x - x_{0})(x - x_{2})(x - x_{3})}{(x_{1} - x_{0})(x_{1} - x_{2})(x_{1} - x_{3})}\n",
    "   \\\\\n",
    "   \\\\\n",
    "   & L_{2}(x) = \\frac{(x - x_{0})(x - x_{1})(x - x_{3})}{(x_{2} - x_{0})(x_{2} - x_{1})(x_{2} - x_{3})}\n",
    "   \\quad,\\quad\n",
    "   L_{3}(x) = \\frac{(x - x_{0})(x - x_{1})(x - x_{2})}{(x_{3} - x_{0})(x_{3} - x_{1})(x_{3} - x_{2})}\n",
    "\\end{align}\n",
    "\n",
    "If we consider this cubic case, notice that each of the Lagrangian coefficient functions $L_{i}(x)$ are themselves cubic polynomials. It follows that $p(x)$ is also a cubic polynomial, since it is just the sum of several cubic polynomials. Second, notice that each $L_{i}(x)$ has the property $L_{i}(x_{j})=\\delta_{ij}$. As a result, $p(x_{j})=f(x_{j})$ for $j=0,\\ldots,3$, as we required.\n",
    "\n",
    "These properties hold in general. Given $n+1$ data, the $n+1$ functions $L_{i}(x)$ are polynomials of degree $n$, and therefore so too is $p(x)$. Also each $L_{i}(x)$ has the property $L_{i}(x_{j})=\\delta_{ij}$. As a result, $p(x_{j})=f(x_{j})$ for $j=0,\\ldots,n$, as required.\n",
    "\n",
    "Now we turn to implementing this in a program that produces an interpolating polynomial for a given set of data points. By plotting the results, you will be able to verify the above statements for yourself."
   ]
  },
  {
   "cell_type": "markdown",
   "metadata": {},
   "source": [
    "## 1. Call a Function from Another File\n",
    "Write a simple function and save it in its own file. Then call that function from a \"main\" code (this could be a different file or a Jupyter notebook). To do this, you need the appropriate header in the main code that tells it about the function file. As always, test your code before moving on."
   ]
  },
  {
   "cell_type": "code",
   "execution_count": 1,
   "metadata": {},
   "outputs": [
    {
     "name": "stdout",
     "output_type": "stream",
     "text": [
      "Overwriting toyfxn.py\n"
     ]
    }
   ],
   "source": [
    "%%writefile toyfxn.py\n",
    "def double_it(x):\n",
    "    \"\"\"\n",
    "    Simple function that takes a number and multiplies it by 2\n",
    "    \n",
    "    INPUT\n",
    "    x  : a single number\n",
    "    \n",
    "    OUTPUT\n",
    "    y  : the given number multiplied by 2\n",
    "    \n",
    "    \"\"\"\n",
    "    return 2*x"
   ]
  },
  {
   "cell_type": "code",
   "execution_count": 12,
   "metadata": {},
   "outputs": [
    {
     "name": "stdout",
     "output_type": "stream",
     "text": [
      "Overwriting toy.py\n"
     ]
    }
   ],
   "source": [
    "%%writefile toy.py\n",
    "from toyfxn import double_it\n",
    "N = float(input(\"Enter a number: \"))\n",
    "result = double_it(N)\n",
    "print(\"The result of running double_it(%f) is %f\" % (N, result)) "
   ]
  },
  {
   "cell_type": "code",
   "execution_count": 13,
   "metadata": {},
   "outputs": [
    {
     "name": "stdout",
     "output_type": "stream",
     "text": [
      "Enter a number: 12\n",
      "The result of running double_it(12.000000) is 24.000000\n"
     ]
    }
   ],
   "source": [
    "%run toy.py"
   ]
  },
  {
   "cell_type": "markdown",
   "metadata": {},
   "source": [
    "## 2. Interpolation Function\n",
    "We eventually want to write a program that takes a bunch of data points as input and produces a plot of the interpolating polynomial as output. The workhorse of that code is the actual interpolation function, which has the following pseudocode.\n",
    "\n",
    "**ALGORITHM**\n",
    "\n",
    "INPUT: an array of points where the data are given, $\\mathsf{xdata}=[\\tilde{x}_{0},\\ldots,\\tilde{x}_{n}]$, an array of the data themselves, $\\mathsf{ydata}=[f(\\tilde{x}_{0}),\\ldots,f(\\tilde{x}_{n})]$, and an array of points where we want to know the interpolated polynomial, $\\mathsf{x}=[x_{0},\\ldots,x_{N}]$\n",
    "\n",
    "OUTPUT: the array of interpolated values, $\\mathsf{y}=[p(x_{0}),\\ldots,p(x_{N})]$\n",
    "\n",
    "* Step 1. n = size of xdata array\n",
    "\n",
    "\n",
    "* Step 2. initialize output array: p=0\n",
    "\n",
    "\n",
    "* Step 3. loop to calculate p;\n",
    "  for i in (0,...,n):\n",
    "  \n",
    "    * initialize L=1\n",
    "    \n",
    "    * loop to calculate L;\n",
    "      for j in (0,...,n):\n",
    "\n",
    "         * if j $\\neq$ i, update L:\n",
    "         \n",
    "           numerator = x - xdata[j]   <=== TYPO CORRECTED!!!\n",
    "         \n",
    "           denominator = xdata[i] - xdata[j] <=== TYPO CORRECTED!!!\n",
    "           \n",
    "           L = L * (numerator)/(denominator)         \n",
    "    \n",
    "    * update p: p = p + L*fdata[i]\n",
    "\n",
    "\n",
    "* Step 4. return p\n",
    "\n",
    "\n",
    "Write a function that implements this algorithm. Store the function in its own file. Test the function by calling it from a \"main\" code (different file or notebook).\n",
    "\n",
    "TEST #1: create a quadratic function, sample it at $\\mathsf{xdata}=[-2, 0, 2]$, then use your code to calculate the interpolated values on the grid $\\mathsf{x}=[-5, -4, -3, -2, -1, 0, 1, 2, 3, 4, 5]$. Also calculate the exact values of the quadratic function on the same grid. The two printed out arrays should agree exactly. (An easy way to check this is to print the error, or difference between the exact and interpolated functions.)\n",
    "\n",
    "TEST #2: create a quartic function, sample it at $\\mathsf{xdata}=[-4, -2, 0, 2, 4]$, and compare the interpolated values with the exact values on the same output grid above. Again, the two sets of values should agree exactly, or equivalently the error should be zero everywhere."
   ]
  },
  {
   "cell_type": "code",
   "execution_count": null,
   "metadata": {},
   "outputs": [],
   "source": [
    "%%writefile intrpf.py\n",
    "### Interpolation function, stored in intrpf.py ###\n",
    "def intrpf(x, xdata, fdata) :\n",
    "    \"\"\" \n",
    "    Function that interpolates the unique n-degree polynomial that passes \n",
    "    through n+1 data points.\n",
    "    \n",
    "    INPUT\n",
    "    x     : grid points where the interpolation polynomial is wanted\n",
    "    xdata : [x0,...,xn], array of grid points where function is known\n",
    "    fdata : [f0,...,fn], array of function values at given grid points\n",
    "\n",
    "    OUTPUT\n",
    "    p     : array of interpolating polynomial at desired points\n",
    "    \n",
    "    \"\"\"\n",
    "    #n = ###get size of xdata###\n",
    "    #p = 0 #initialize p to 0\n",
    "    #\n",
    "    #for i in range(n):\n",
    "    #    L = 1 #initialize L to 1\n",
    "    #    for j in range(n):\n",
    "    #        if j!=i:\n",
    "    #            numerator = ###formula for numerator for jth loop###\n",
    "    #            denominator = ###formula for denominator for jth loop###\n",
    "    #            L = L * numerator/denominator\n",
    "    #    p = p + ###product of L and fdata for ith loop###\n",
    "    #\n",
    "    #return p"
   ]
  },
  {
   "cell_type": "code",
   "execution_count": null,
   "metadata": {},
   "outputs": [],
   "source": [
    "%%writefile testf.py\n",
    "### Test functions, stored in test.py ###\n",
    "def test1(x):\n",
    "    #y = (PUT ANY QUADRATIC POLYNOMIAL IN x HERE)\n",
    "    #return y \n",
    "\n",
    "def test2(x):\n",
    "    #y = (PUT ANY QUARTIC POLYNOMIAL IN x HERE)\n",
    "    #return y "
   ]
  },
  {
   "cell_type": "code",
   "execution_count": 2,
   "metadata": {},
   "outputs": [
    {
     "name": "stdout",
     "output_type": "stream",
     "text": [
      "Overwriting interpolate.py\n"
     ]
    }
   ],
   "source": [
    "%%writefile interpolate.py\n",
    "import numpy as np\n",
    "from intrpf import intrpf\n",
    "from testf import test1, test2\n",
    "\n",
    "## create output grid\n",
    "#xmin = ###enter starting value of xgrid###\n",
    "#xmax = ###enter ending value of xgrid###\n",
    "#nx = ###enter number of xgrid values###\n",
    "#x = np.linspace(xmin, xmax, nx)\n",
    "\n",
    "### run test 1 ###\n",
    "#xdata1 = ###create numpy array for input xdata###\n",
    "#fdata1 = ###get input fdata by calling test1() using xdata###\n",
    "#exact1 = ###get exact f-values by calling test1() using x-values###\n",
    "#p1 = ##call interpolation function to get output p-values###\n",
    "#err1 = ###calculate error by comparing p-values and exact f-values###\n",
    "#print(\"Error for test 1: \", err1)\n",
    "\n",
    "### run test 2 ###\n",
    "#xdata2 = ###create numpy array for input xdata###\n",
    "#fdata2 = ###get input fdata by calling test2() using xdata###\n",
    "#exact2 = ###get exact f-values by calling test2() using x-values###\n",
    "#p2 = ##call interpolation function to get output p-values###\n",
    "#err2 = ###calculate error by comparing p-values and exact f-values###\n",
    "#print(\"Error for test 2: \", err2)"
   ]
  },
  {
   "cell_type": "code",
   "execution_count": null,
   "metadata": {},
   "outputs": [],
   "source": [
    "%run interpolate.py"
   ]
  },
  {
   "cell_type": "markdown",
   "metadata": {},
   "source": [
    "## 3. Interpolation Program\n",
    "\n",
    "Now that we have an interpolating function that seems to work, let's create a program that uses this function to produce plots. This will provide deeper insight into what is going on. The overall program now has the following structure.\n",
    "\n",
    "**ALGORITHM**\n",
    "\n",
    "INPUT: an array of points where the data are given, $\\mathsf{xdata}=[\\tilde{x}_{0},\\ldots,\\tilde{x}_{n}]$, an array of the data themselves, $\\mathsf{ydata}=[f(\\tilde{x}_{0}),\\ldots,f(\\tilde{x}_{n})]$, and an array of points where we want to know the interpolated polynomial, $\\mathsf{x}=[x_{0},\\ldots,x_{N}]$\n",
    "\n",
    "OUTPUT: a graph showing both the input data points and the interpolating polynomial, $p(x)$.\n",
    "\n",
    "Step 1: specify input data arrays $\\mathsf{xdata}$ and $\\mathsf{fdata}$\n",
    "\n",
    "Step 2: setup array of output grid points $\\mathsf{x}$\n",
    "\n",
    "Step 3: call interpolation routine, returns array of values $\\mathsf{p}$\n",
    "\n",
    "Step 4: plot results, store in a file\n",
    "\n",
    "The last step is the only new one. Add this step to your main code. Repeat the two previous tests above, except now plotting the results instead of merely printing them out. Then try a more interesting test: perform a quartic interpolation of sine using $\\mathsf{xdata}=[-4,-2,0,2,4]$. Plot the data points, the interpolating polynomial, and the exact sine curve on the same figure."
   ]
  },
  {
   "cell_type": "code",
   "execution_count": null,
   "metadata": {},
   "outputs": [],
   "source": [
    "%%writefile interpolate.py\n",
    "import numpy as np\n",
    "import matplotlib.pyplot as plt\n",
    "from intrpf import intrpf\n",
    "from testf import test1, test2\n",
    "\n",
    "## create output grid\n",
    "#xmin = ###enter starting value of xgrid###\n",
    "#xmax = ###enter ending value of xgrid###\n",
    "#nx = ###enter number of xgrid values###\n",
    "#x = np.linspace(xmin, xmax, nx)\n",
    "\n",
    "## create test function\n",
    "#def test(x):\n",
    "#    y = ###put numpy's sine function here###\n",
    "#    return y\n",
    "\n",
    "## input data\n",
    "#xdata = ###create xdata array###\n",
    "#fdata = ###create fdata by calling test() with xdata###\n",
    "\n",
    "## exact function\n",
    "#exact = ###create exact f-values by calling test() with x-values###\n",
    "\n",
    "## call interpolation function\n",
    "#p = ###call intrpf() with x, xdata, fdata###\n",
    "\n",
    "## plot results\n",
    "###plot interpolated function (red line)###\n",
    "###plot exact function (black dashed line)###\n",
    "###plot data points used for the interpolation (black squares)###\n",
    "#plt.show()\n",
    "\n",
    "## save fig\n",
    "#plt.savefig('interp.pdf', format='pdf')\n",
    "#plt.ioff"
   ]
  },
  {
   "cell_type": "code",
   "execution_count": null,
   "metadata": {},
   "outputs": [],
   "source": [
    "%run interpolate.py"
   ]
  }
 ],
 "metadata": {
  "kernelspec": {
   "display_name": "Python 3",
   "language": "python",
   "name": "python3"
  },
  "language_info": {
   "codemirror_mode": {
    "name": "ipython",
    "version": 3
   },
   "file_extension": ".py",
   "mimetype": "text/x-python",
   "name": "python",
   "nbconvert_exporter": "python",
   "pygments_lexer": "ipython3",
   "version": "3.6.9"
  }
 },
 "nbformat": 4,
 "nbformat_minor": 2
}
