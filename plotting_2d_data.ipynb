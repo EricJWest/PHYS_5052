{
 "cells": [
  {
   "cell_type": "markdown",
   "metadata": {},
   "source": [
    "# Plotting 2D Data\n",
    "---\n",
    "**GOAL:** review how to make simple plots of single-variable functions and 2D data\n",
    "\n",
    "**OUTCOMES:** after completing this activity, you will be able to do the following\n",
    "* create and slice arrays\n",
    "* create and call user-defined functions\n",
    "* create 2D line and scatter plots\n",
    "* choose appropriate resolution for line plots\n",
    "* save figures to eps or pdf files\n",
    "* [Python user's] use Jupyter notebooks for prototyping"
   ]
  },
  {
   "cell_type": "markdown",
   "metadata": {},
   "source": [
    "## Exercise 1: Plot Sine and Cosine\n",
    "Create a simple figure showing plots of $\\sin{x}$ and $\\cos{x}$ vs $x$, for $x\\in[0,10]$. Include a figure title, axis labels, and legend. The two plots should be easily discernible (do not rely on color alone, since a sizeable portion of the population has some form of color blindness). Save your figure either in eps or pdf format."
   ]
  },
  {
   "cell_type": "code",
   "execution_count": null,
   "metadata": {},
   "outputs": [],
   "source": [
    "## graphics backend (for notebook version only)\n",
    "%matplotlib notebook\n",
    "\n",
    "## import libraries\n",
    "import numpy as np\n",
    "import matplotlib.pyplot as plt"
   ]
  },
  {
   "cell_type": "code",
   "execution_count": null,
   "metadata": {},
   "outputs": [],
   "source": [
    "## create xgrid array \n",
    "\n",
    "## create data arrays\n"
   ]
  },
  {
   "cell_type": "code",
   "execution_count": null,
   "metadata": {},
   "outputs": [],
   "source": [
    "## plot\n",
    "\n",
    "## save to file\n"
   ]
  },
  {
   "cell_type": "markdown",
   "metadata": {},
   "source": [
    "## Exercise 2: Plot a User-Defined Function\n",
    "Recall, the motion of an under-damped oscillator can be written as\n",
    "\n",
    "\\begin{equation}\n",
    "  x(t) = Ae^{-\\beta t}\\cos\\left(\\sqrt{\\omega_{0}^2 - \\beta^2}\\,\\,t\\right)\n",
    "\\end{equation}\n",
    "\n",
    "where $A$ is the intial position of the oscillator, $\\beta$ is the damping coefficient, and $\\omega_{0}$ is the natural frequency. \n",
    "\n",
    "[NOTE: the condition for under-damping is that $\\omega_{0}>\\beta$, and as a result the term in the square root will always be positive in this case. Solutions for over- and critically-damped oscillators take a different mathematical form.] \n",
    "\n",
    "Wrap the above equation for an under-damped oscillator in a function (e.g., called 'damped_osc' or whatever you like). Let the function take the parameters $A$, $\\omega_{0}$ and $\\beta$ as inputs, as well as time $t$. Then plot your function versus time. Experiment with different parameter values (while keeping $\\omega_{0}>\\beta$) and time ranges. Construct a reasonably smooth plot with the recognizable behavior of a damped oscillator. As always, include title, axis labels, etc. Again, save your figure either in eps or pdf format."
   ]
  },
  {
   "cell_type": "code",
   "execution_count": null,
   "metadata": {},
   "outputs": [],
   "source": []
  },
  {
   "cell_type": "markdown",
   "metadata": {},
   "source": [
    "## Exercise 3: Plot Data from a File\n",
    "Another situation that often arises is the need to read data from a file and then plot. Go to the online resources for the textbook (http://www-personal.umich.edu/~mejn/cp/programs.html) and download the file `sunspots.txt`, which gives monthly data on the number sunspots since 1749. The first column represents the month (counting starts with January 1749). The second column represents the number of sunspots observed during that month.\n",
    "\n",
    "Read these data from file into an array (or arrays), and then plot them as a scatter plot. Make your plot markers relatively small so that the figure doesn't look like a blobby mess. As always, include title, axis labels, etc. Save your figure either in eps or pdf format."
   ]
  },
  {
   "cell_type": "code",
   "execution_count": null,
   "metadata": {},
   "outputs": [],
   "source": []
  },
  {
   "cell_type": "markdown",
   "metadata": {},
   "source": [
    "## Exercise 4: Slicing an Array\n",
    "As a final exercise, we will replot only part of the data in `sunspots.txt`. Notice that the number of sunspots has a fairly regular period. Determine the period by only plotting the first chunk of data. Using trial and error, determine how many months of data are needed to see one full cycle. Save your figure either in eps or pdf format.\n",
    "\n",
    "[NOTE: the point here is do this by \"slicing\" the data arrays rather than simply adjusting the \"view\" limits of the plot. In other words, do not plot ALL of the data and then just zoom in on the first part. Instead select (\"slice\") the data into chunks and plot ALL of the data in those chunks.]\n",
    "\n",
    "[OPTIONAL CHALLENGE: create two plots, one of the sunspots during 1900-1910 and one of the sunspots during 1995-2005. Display both plots in the same figure, one above the other.]"
   ]
  },
  {
   "cell_type": "code",
   "execution_count": null,
   "metadata": {},
   "outputs": [],
   "source": []
  }
 ],
 "metadata": {
  "kernelspec": {
   "display_name": "Python 3",
   "language": "python",
   "name": "python3"
  },
  "language_info": {
   "codemirror_mode": {
    "name": "ipython",
    "version": 3
   },
   "file_extension": ".py",
   "mimetype": "text/x-python",
   "name": "python",
   "nbconvert_exporter": "python",
   "pygments_lexer": "ipython3",
   "version": "3.6.9"
  }
 },
 "nbformat": 4,
 "nbformat_minor": 2
}
