{
 "cells": [
  {
   "cell_type": "markdown",
   "metadata": {},
   "source": [
    "# Numerical Derivatives\n",
    "---\n",
    "**GOAL:** carry out convergence tests for different finite difference schemes\n",
    "\n",
    "**OUTCOMES:** after completing this activity, you will be able to do the following\n",
    "* write functions that implement different finite difference schemes\n",
    "* create error grid-functions\n",
    "* calculate the $L_{p}$-norm of error grid-functions\n",
    "* perform convergence tests for finite difference schemes"
   ]
  },
  {
   "cell_type": "markdown",
   "metadata": {},
   "source": [
    "## 1. Finite Difference Schemes\n",
    "\n",
    "Forward difference:\n",
    "$$\n",
    "  \\frac{df}{dx} \n",
    "  = \\frac{1}{h}\\left[f(x+h) - f(x)\\right] \n",
    "    + \\mathcal{O}(h)\n",
    "$$\n",
    "\n",
    "Backward difference:\n",
    "$$\n",
    "  \\frac{df}{dx} \n",
    "  = \\frac{1}{h}\\left[f(x) - f(x-h)\\right] \n",
    "    + \\mathcal{O}(h)\n",
    "$$\n",
    "\n",
    "Central difference:\n",
    "$$\n",
    "  \\frac{df}{dx} \n",
    "  = \\frac{1}{2h}\\left[f(x+h) - f(x-h)\\right] \n",
    "    + \\mathcal{O}(h^2)\n",
    "$$\n",
    "\n",
    "Create functions to calculate these finite difference schemes for a given value of $x$, $h$, and a function handle $f$."
   ]
  },
  {
   "cell_type": "code",
   "execution_count": null,
   "metadata": {},
   "outputs": [],
   "source": [
    "import numpy as np\n",
    "\n",
    "### forward difference scheme ###\n",
    "def fd(x, h, f):\n",
    "    ## YOUR CODE HERE ##                            <==\n",
    "\n",
    "### backward difference scheme ###\n",
    "def bd(x, h, f):\n",
    "    ## YOUR CODE HERE ##                            <==\n",
    "\n",
    "### central difference scheme ###\n",
    "def cd(x, h, f):\n",
    "    ## YOUR CODE HERE ##                            <=="
   ]
  },
  {
   "cell_type": "markdown",
   "metadata": {},
   "source": [
    "## 2. Calculate for a Known Example\n",
    "Use the above finite difference schemes to approximate the derivative of the function $f(x) = xe^{\\sin(x)}$ for various values of $h$. Plot the approximate derivatives along with the exact derivative (calculate the exact derivative by hand and create a function in order to plot it)."
   ]
  },
  {
   "cell_type": "code",
   "execution_count": null,
   "metadata": {},
   "outputs": [],
   "source": [
    "### test function ###\n",
    "def f(x):\n",
    "    ## YOUR CODE HERE ##                            <==\n",
    "\n",
    "### exact derivative of test function ###\n",
    "def df_exact(x):\n",
    "    ## YOUR CODE HERE ##                            <=="
   ]
  },
  {
   "cell_type": "code",
   "execution_count": null,
   "metadata": {},
   "outputs": [],
   "source": [
    "import matplotlib.pyplot as plt\n",
    "%matplotlib notebook\n",
    "\n",
    "## create x-grid for plotting\n",
    "x = np.linspace(0, 10, 101)\n",
    "\n",
    "## choose grid spacing for finite differences\n",
    "h = 1\n",
    "\n",
    "## plot derivatives\n",
    "plt.plot(x, df_exact(x), 'k-',  label='exact')\n",
    "plt.plot(x, fd(x, h, f), 'r--', label='forward diff')\n",
    "plt.plot(x, bd(x, h, f), 'b-.', label='backward diff')\n",
    "plt.plot(x, cd(x, h, f), 'g:',  label='central diff')\n",
    "\n",
    "plt.title(r'First derivatives of $xe^{\\sin(x)}$ ' \\\n",
    "          + 'for $h$ = %.3f' % h, fontsize=14)\n",
    "plt.xlabel('x', fontsize=14)\n",
    "plt.ylabel('derivative', fontsize=14)\n",
    "plt.legend(loc='lower left')\n",
    "\n",
    "plt.show()"
   ]
  },
  {
   "cell_type": "markdown",
   "metadata": {},
   "source": [
    "## 3. Calculate Error Grid-Function\n",
    "Calculate the point-wise error on the grid $\\mathcal{E}_{i} = \\hat{u}_{i} - U_{i}$, where $\\hat{u}_{i}$ is the exact solution evaluated at grid point $x_{i}$, and $U_{i}$ is the approximate solution (calculated from one of the finite difference schemes) at the same grid point. Calculate such a grid-function for each finite difference scheme and then plot them."
   ]
  },
  {
   "cell_type": "code",
   "execution_count": null,
   "metadata": {},
   "outputs": [],
   "source": [
    "### forward difference error grid-function ###\n",
    "def err_fd(x, h, f, df_exact):\n",
    "    ## YOUR CODE HERE ##                            <==\n",
    "\n",
    "### backward difference error grid-function ###\n",
    "def err_bd(x, h, f, df_exact):\n",
    "    ## YOUR CODE HERE ##                            <==\n",
    "\n",
    "### central difference error grid-function ###\n",
    "def err_cd(x, h, f, df_exact):\n",
    "    ## YOUR CODE HERE ##                            <==\n",
    "\n",
    "## calculate error grid-functions\n",
    "errFD = err_fd(x, h, f, df_exact)\n",
    "errBD = err_bd(x, h, f, df_exact)\n",
    "errCD = err_cd(x, h, f, df_exact)\n",
    "\n",
    "## plot error grid-functions\n",
    "plt.plot(x, errFD, 'r--', label='forward diff')\n",
    "plt.plot(x, errBD, 'b-.', label='backward diff')\n",
    "plt.plot(x, errCD, 'g:',  label='central diff')\n",
    "\n",
    "plt.title(r'Absolute error in first derivatives of $xe^{\\sin(x)}$ ' \\\n",
    "          + 'for $h$ = %.3f' % h, fontsize=14)\n",
    "plt.xlabel('x', fontsize=14)\n",
    "plt.ylabel('error', fontsize=14)\n",
    "plt.legend(loc='lower left')\n",
    "\n",
    "plt.show()"
   ]
  },
  {
   "cell_type": "markdown",
   "metadata": {},
   "source": [
    "## 4. Convergence Test\n",
    "Create a function to calculate the $L_{p}$-norm for an error grid-function $\\mathcal{E}_{h}$ on a grid with grid spacing $h$.\n",
    "\n",
    "$$\n",
    "  |\\!|\\mathcal{E}_{h}|\\!|_{p} = \\left(h\\sum_{i=0}^{N-1} |\\mathcal{E}_{i}|\\right)^{1/p}\n",
    "  \\quad\\quad\n",
    "  \\mathrm{(Python)}\n",
    "$$\n",
    "\n",
    "$$\n",
    "  |\\!|\\mathcal{E}_{h}|\\!|_{p} = \\left(h\\sum_{i=1}^{N} |\\mathcal{E}_{i}|\\right)^{1/p}\n",
    "  \\quad\\quad\n",
    "  \\mathrm{(Matlab)}\n",
    "$$\n",
    "\n",
    "Calculate the $L_{2}$-norm for each finite difference scheme for the grid spacing values \n",
    "$h=[2^{1}, 2^{0}, 2^{-1},\\ldots, 2^{-40}]$. Then plot on a log-log plot to determine the rates of convergence for each scheme. Repeat for a few different $L_{p}$-norms (for example, try $p=1,2,4,8$). What do you notice?"
   ]
  },
  {
   "cell_type": "code",
   "execution_count": null,
   "metadata": {},
   "outputs": [],
   "source": [
    "### Lp norm ###\n",
    "def norm(p, x, h, errfxn, f, df_exact):\n",
    "    ## YOUR CODE HERE ##                            <==\n",
    "\n",
    "## initialize data arrays\n",
    "data_fd = []\n",
    "data_bd = []\n",
    "data_cd = []\n",
    "\n",
    "## create array of grid spacings\n",
    "hs = ## YOUR CODE HERE ##                            <==\n",
    "\n",
    "## calculate Lp norms for different h\n",
    "p = 2\n",
    "for i in range(len(hs)):\n",
    "    data_fd.append(norm(p, x, hs[i], err_fd, f, df_exact))\n",
    "    data_bd.append(norm(p, x, hs[i], err_bd, f, df_exact))\n",
    "    data_cd.append(norm(p, x, hs[i], err_cd, f, df_exact))"
   ]
  },
  {
   "cell_type": "code",
   "execution_count": null,
   "metadata": {},
   "outputs": [],
   "source": [
    "### straight line drawn from first data point ###\n",
    "def line(h, h0, err0, slope):\n",
    "    y = err0*(h/h0)**slope\n",
    "    return y\n",
    "\n",
    "## lines\n",
    "slope_fd = 1.0\n",
    "slope_bd = 1.0\n",
    "slope_cd = 2.0\n",
    "line_fd = line(hs, hs[0], data_fd[0], slope_fd)\n",
    "line_bd = line(hs, hs[0], data_bd[0], slope_bd)\n",
    "line_cd = line(hs, hs[0], data_cd[0], slope_cd)\n",
    "\n",
    "## define styles\n",
    "mstyle1 = {'color':'r', 'lw':0, 'marker':'+', 'ms':6, 'mfc':'None', 'mew':1}\n",
    "mstyle2 = {'color':'b', 'lw':0, 'marker':'x', 'ms':5, 'mfc':'None', 'mew':1}\n",
    "mstyle3 = {'color':'g', 'lw':0, 'marker':'o', 'ms':5, 'mfc':'None', 'mew':1}\n",
    "lstyle1 = {'color':'r', 'lw':1, 'ls':'--'}\n",
    "lstyle2 = {'color':'b', 'lw':1, 'ls':'-.'}\n",
    "lstyle3 = {'color':'g', 'lw':1, 'ls':(0,(8, 2, 1, 2, 1, 2))}\n",
    "\n",
    "## plot L2 norms versus h   \n",
    "plt.loglog(hs, data_fd, **mstyle1, label='forward diff')\n",
    "plt.loglog(hs, data_bd, **mstyle2, label='backward diff')\n",
    "plt.loglog(hs, data_cd, **mstyle3, label='central diff')\n",
    "\n",
    "plt.loglog(hs, line_fd, **lstyle1, label='slope = %.2f' % slope_fd)\n",
    "plt.loglog(hs, line_bd, **lstyle2, label='slope = %.2f' % slope_bd)\n",
    "plt.loglog(hs, line_cd, **lstyle3, label='slope = %.2f' % slope_cd)\n",
    "\n",
    "plt.title('Convergence Test', fontsize=14)\n",
    "plt.xlabel(r'$h$ (grid spacing)', fontsize=14)\n",
    "plt.ylabel(r'$|\\!|\\mathcal{E}|\\!|_{2}$ (L2-norm of error grid-function)', fontsize=14)\n",
    "plt.legend(loc='upper left')\n",
    "plt.ylim(1e-13, )\n",
    "\n",
    "plt.show()"
   ]
  }
 ],
 "metadata": {
  "kernelspec": {
   "display_name": "Python 3",
   "language": "python",
   "name": "python3"
  },
  "language_info": {
   "codemirror_mode": {
    "name": "ipython",
    "version": 3
   },
   "file_extension": ".py",
   "mimetype": "text/x-python",
   "name": "python",
   "nbconvert_exporter": "python",
   "pygments_lexer": "ipython3",
   "version": "3.6.9"
  }
 },
 "nbformat": 4,
 "nbformat_minor": 2
}
