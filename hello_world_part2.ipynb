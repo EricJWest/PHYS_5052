{
 "cells": [
  {
   "cell_type": "markdown",
   "metadata": {},
   "source": [
    "# Hello World, Part 2\n",
    "---\n",
    "**GOAL:** review some basic programming skills by extending our hello world program into a super-duper-turbo-charged hello world program.\n",
    "\n",
    "**OUTCOMES:** after completing this activity, you will be able to do the following\n",
    "* assign values to variables\n",
    "* utilize control structures such as if-statements, for-loops, and while-loops\n",
    "* ask for, and utilize, input from user at run time\n",
    "* direct output to a file\n",
    "* carry out an extend-test-debug code development cycle"
   ]
  },
  {
   "cell_type": "markdown",
   "metadata": {},
   "source": [
    "### Extension 1: For-Loop\n",
    "Modify your hello world program to print 'hello world' 8 times using a for-loop. Have each loop idenitify itself in some way. Example output for loop 3: \"Loop 3 says: hello world!\" "
   ]
  },
  {
   "cell_type": "code",
   "execution_count": null,
   "metadata": {},
   "outputs": [],
   "source": []
  },
  {
   "cell_type": "markdown",
   "metadata": {},
   "source": [
    "### Extension 2: Type Checking\n",
    "Modify your code to print 'hello world' a fixed number of times, given by a constant N that is assigned in your code.\n",
    "\n",
    "[OPTIONAL/ADVANCED: If N is a positive integer, your code should print 'hello world' to the screen that many times. However, if N is not a positive integer, the code should return an error message and quit. Test your new program with the following choices for N: 4, -4, 4.0, '4', 'cat'. The program should print an error and quit for all but the first case.]"
   ]
  },
  {
   "cell_type": "code",
   "execution_count": null,
   "metadata": {},
   "outputs": [],
   "source": []
  },
  {
   "cell_type": "markdown",
   "metadata": {},
   "source": [
    "### Extension 3: User Input\n",
    "Your previous code prints hello world N times, where N is a fixed constant specified in the code itself. Instead of \"hard-coding\" N in that way, modify the code to take N as user-input. That is, prompt the user for a positive integer and then print hello world that many times. \n",
    "\n",
    "[OPTIONAL/ADVANCED: Test the user's input. If valid, print hello world that many times, exactly as in the previous extension. On the other hand, if the user enters invalid input, send an error message and repeat the prompt. Keep repeating until the user enters a positive integer (or kills the program). Test the code as before by trying the inputs: 4, -4, 4.0, '4', and 'cat'. Once again, only the first case should succeed. The others should trigger an error and a repeated prompt.]"
   ]
  },
  {
   "cell_type": "code",
   "execution_count": null,
   "metadata": {},
   "outputs": [],
   "source": []
  },
  {
   "cell_type": "markdown",
   "metadata": {},
   "source": [
    "### I/O Interlude\n",
    "Printing messages to the screen (so-called \"standard output\" or \"stdout\") is ephemeral. Once you close your terminal, those messages are lost forever. What if you want to capture the output of a program instead, say by saving it to a file? This is the topic of \"input and output\" (\"I/O\"). Actually you already confronted input in the previous extension. Now it's time to confront output. \n",
    "\n",
    "I/O is a somewhat boring topic, but it is an extremely important one. After all, scientific computing is not just fun and games. At the end of the day you want your code to produce data that can be plotted, interpreted, compared to experiment or theory, shared with colleagues, reproduced by other groups, and so on. That requires your data to be captured and preserved. In other words, it needs to be written to a file, or files.\n",
    "\n",
    "There is a trivial way of handling I/O that does not involve any changes to your code. You simply use the redirection operator `>` in the command line to \"redirect\" output from stdout to a file when you run the program. For your hello world program, if you want the output written to a file named `hello_world.out`, then you would do the following.\n",
    "\n",
    "PYTHON:\n",
    "\n",
    "`$ python hello_world.py > hello_world.out`\n",
    "\n",
    "MATLAB:\n",
    "\n",
    "`$ matlab -batch \"hello_world\" > hello_world.out`\n",
    "\n",
    "(NOTE: The `>` operator overwrites the output file everytime it is run. To repeatedly append to the same file, instead of overwriting it, you use the `>>` operator.) This redirection trick is useful for simple cases.\n",
    "\n",
    "However, notice that redirection sends ALL output to the same file, including any user prompts. This blanket treatment of output is often too crude. In other words, we often need more fine-grained control over I/O than what simple redirection can provide. Here are just a few example scenarios:\n",
    "\n",
    "* you want to write different data sets to different data files, for the sake of organization\n",
    "* you only want to redirect data to files, leaving diagnostic messages to be sent to stdout\n",
    "* you want to prompt the user for input\n",
    "* you don't want to leave it to the user to redirect output to an appropriate file\n",
    "\n",
    "In these cases, simple redirection of output won't work. At best, redirection gives you a cluttered output file. At worst, as in our interactive hello world program, it causes your program to \"hang\" (i.e., never finish), as it sits and waits for the user to respond to a prompt that they never receive. The moral of the story is that you often need to add some level of I/O management into your programs."
   ]
  },
  {
   "cell_type": "markdown",
   "metadata": {},
   "source": [
    "### Extension 4: Writing to File\n",
    "As a final extension, modify your previous hello world code so that instead of printing 'hello world' messages to stdout, they are written to a file named `hello_world.out`. To make the code slightly more user-friendly, tell the user what is happening. The user should still be prompted for a positive integer. After input is sent, print a message to stdout telling the user that data is being written to a file. Maybe even tell the user when the the program has finished gracefully. After the program completes, check that `hello_world.out` has been created in your working directory and contains the correct number of 'hello world' messages (and nothing else).\n",
    "\n",
    "[OPTIONAL/ADVANCED: have the program first check whether the output file already exists. If it does, warn the user that it will be over-written (give the user a chance to abort, if you like). If the output file doesn't already exist, tell the user that it will be created. Run the program twice to test whether the messages change accordingly.]"
   ]
  },
  {
   "cell_type": "code",
   "execution_count": null,
   "metadata": {},
   "outputs": [],
   "source": []
  }
 ],
 "metadata": {
  "kernelspec": {
   "display_name": "Python 3",
   "language": "python",
   "name": "python3"
  },
  "language_info": {
   "codemirror_mode": {
    "name": "ipython",
    "version": 3
   },
   "file_extension": ".py",
   "mimetype": "text/x-python",
   "name": "python",
   "nbconvert_exporter": "python",
   "pygments_lexer": "ipython3",
   "version": "3.6.9"
  }
 },
 "nbformat": 4,
 "nbformat_minor": 2
}
