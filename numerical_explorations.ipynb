{
 "cells": [
  {
   "cell_type": "markdown",
   "metadata": {},
   "source": [
    "# Numerical Explorations\n",
    "---\n",
    "How numbers are represented on a digitial computer has far reaching consequences for computations. \n",
    "\n",
    "In many languages, both integers and real numbers are represented with finite precision. In Python, integers actually have infinite precision. This means that the size of integers is only limited by computer memory, and calculations are only limited by time. \n",
    "\n",
    "In contrast, real numbers are treated using the floating-point representation, which puts a bound on how large or small a number can be. This has important consequences for computations involving floating-point numbers that one needs to be aware of.\n",
    "\n",
    "This notebook is intended to give you a chance to explore some of these issues."
   ]
  },
  {
   "cell_type": "markdown",
   "metadata": {},
   "source": [
    "### Exploration 1: Arbitrary Range and Precision in Integers"
   ]
  },
  {
   "cell_type": "code",
   "execution_count": null,
   "metadata": {
    "scrolled": false
   },
   "outputs": [],
   "source": [
    "# to demonstrate infinite range, create a very large integer\n"
   ]
  },
  {
   "cell_type": "code",
   "execution_count": null,
   "metadata": {
    "scrolled": true
   },
   "outputs": [],
   "source": [
    "# to demonstrate infinite precision add/subtract a very large integer and a small integer\n"
   ]
  },
  {
   "cell_type": "markdown",
   "metadata": {},
   "source": [
    "### Exploration 2: Floating-Point Representations"
   ]
  },
  {
   "cell_type": "code",
   "execution_count": null,
   "metadata": {},
   "outputs": [],
   "source": [
    "# create a floating-point number and print it to 30 digits \n"
   ]
  },
  {
   "cell_type": "code",
   "execution_count": null,
   "metadata": {},
   "outputs": [],
   "source": [
    "# 0.1 + 0.2 == 0.3, True or False?\n"
   ]
  },
  {
   "cell_type": "code",
   "execution_count": null,
   "metadata": {},
   "outputs": [],
   "source": [
    "# (0.7 + 0.1) + 0.3 == 0.7 + (0.1 + 0.3), True or False?\n"
   ]
  },
  {
   "cell_type": "markdown",
   "metadata": {},
   "source": [
    "### Exploration 3: Finite Range in Floating-Point Numbers"
   ]
  },
  {
   "cell_type": "code",
   "execution_count": null,
   "metadata": {},
   "outputs": [],
   "source": [
    "# to demonstrate UNDERFLOW, multiply two small numbers\n"
   ]
  },
  {
   "cell_type": "code",
   "execution_count": null,
   "metadata": {},
   "outputs": [],
   "source": [
    "# to demonstrate OVERFLOW, multiply two large numbers\n"
   ]
  },
  {
   "cell_type": "markdown",
   "metadata": {},
   "source": [
    "### Exploration 4: Finite Precision in Floating-Point Numbers"
   ]
  },
  {
   "cell_type": "code",
   "execution_count": null,
   "metadata": {},
   "outputs": [],
   "source": [
    "# MACHINE EPSILON is the gap between 1 and the smallest number greater than 1.\n",
    "# Find this by repeatedly dividing by 2 until 1 + eps = 1.\n"
   ]
  },
  {
   "cell_type": "code",
   "execution_count": null,
   "metadata": {},
   "outputs": [],
   "source": [
    "# MACHINE ROUND OFF is the smallest number added to 1 that yields a number greater than 1.\n",
    "# Try to find this, starting with machine epsilon.\n"
   ]
  },
  {
   "cell_type": "markdown",
   "metadata": {},
   "source": [
    "### Exploration 5: Catastrophic Cancellation"
   ]
  },
  {
   "cell_type": "code",
   "execution_count": null,
   "metadata": {},
   "outputs": [],
   "source": [
    "# function to calculate relative error\n",
    "def rel_error(approx, exact):\n",
    "    return abs(exact - approx)/abs(exact)"
   ]
  },
  {
   "cell_type": "code",
   "execution_count": null,
   "metadata": {},
   "outputs": [],
   "source": [
    "# Newman, Example 4.1\n",
    "from math import sqrt\n",
    "dy = (1e-8)*sqrt(2)\n",
    "y = 1 + dy\n",
    "x = 1\n",
    "diff = y - x\n",
    "exact = dy"
   ]
  },
  {
   "cell_type": "code",
   "execution_count": null,
   "metadata": {},
   "outputs": [],
   "source": [
    "rel_error(diff, exact)"
   ]
  },
  {
   "cell_type": "code",
   "execution_count": null,
   "metadata": {},
   "outputs": [],
   "source": []
  }
 ],
 "metadata": {
  "kernelspec": {
   "display_name": "Python 3",
   "language": "python",
   "name": "python3"
  },
  "language_info": {
   "codemirror_mode": {
    "name": "ipython",
    "version": 3
   },
   "file_extension": ".py",
   "mimetype": "text/x-python",
   "name": "python",
   "nbconvert_exporter": "python",
   "pygments_lexer": "ipython3",
   "version": "3.6.9"
  }
 },
 "nbformat": 4,
 "nbformat_minor": 2
}
