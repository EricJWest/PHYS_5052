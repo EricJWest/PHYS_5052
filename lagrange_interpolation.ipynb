{
 "cells": [
  {
   "cell_type": "markdown",
   "metadata": {},
   "source": [
    "# Lagrange Interpolation\n",
    "---\n",
    "**GOAL:** write a code to calculate and plot an interpolating polynomial through a set of data points\n",
    "\n",
    "**OUTCOMES:** after completing this activity, you will be able to do the following\n",
    "* read pseudocode\n",
    "* store user-defined functions in their own files\n",
    "* call functions from separate files\n",
    "* call functions from a scientific library\n",
    "* interpolate Bessel functions of the first kind to arbitrary order"
   ]
  },
  {
   "cell_type": "markdown",
   "metadata": {},
   "source": [
    "## 0. Introduction (Theory)\n",
    "\n",
    "Suppose we are given values of some function $f(x_{0}),\\ldots,f(x_{n})$, at the points $x_{0},\\ldots,x_{n}$. The function $f(x)$ itself may be unknown to us. For example it might represent some empirical relationship that we only have in tabulated form. Alternatively, $f(x)$ might be a function we know the name of, but it might be computationally expensive to calculate at arbitrary points. Whatever the case, assume we need to approximate the function $f(x)$ by a polynomial $p(x)$ that exactly passes through the given $n+1$ points. This procedure is called interpolation.\n",
    "\n",
    "NOTE: Here we are only considering a specific form of polynomial interpolation, called \"Lagrange interpolation\", for the sake of illustration. There are other forms of interpolation (Hermite, cubic spline, etc) that are sometimes more appropriate. We will say more about interpolation later in the course. For now, just try to get the gist of what is going on in this special case.\n",
    "\n",
    "The unique polynomial of degree $n$ that interpolates the given $n+1$ points is given by\n",
    "\n",
    "\\begin{equation}\n",
    "   p(x) = L_{0}(x)f(x_{0}) + \\cdots + L_{n}(x)f(x_{n})\n",
    "   = \\sum_{i=0}^{n} L_{i}(x) f(x_{i}),\n",
    "\\end{equation}\n",
    "\n",
    "where the Lagrangian coefficient functions are given by\n",
    "\n",
    "\\begin{equation}\n",
    "   L_{i}(x) = \\prod_{j=0, j\\neq i}^{n}\\frac{(x - x_{j})}{(x_{i} - x_{j})}\n",
    "\\end{equation}\n",
    "\n",
    "It may help to look at the first few special cases in order to fully appreciate the general formula above.\n",
    "\n",
    "**Linear interpolation (n=1):**\n",
    "\n",
    "Given two values, $f(x_{0})$ and $f(x_{1})$, at points $x_{0}$ and $x_{1}$, respectively, the unique line (polynomial of degree $n=1$) that passes through these points is given by\n",
    "\n",
    "\\begin{equation}\n",
    "   p(x) = L_{0}(x)f(x_{0}) + L_{1}(x)f(x_{1}),\n",
    "\\end{equation}\n",
    "\n",
    "where\n",
    "\n",
    "\\begin{equation}\n",
    "   L_{0}(x) = \\frac{(x - x_{1})}{(x_{0} - x_{1})} \n",
    "   \\quad\\text{and}\\quad \n",
    "   L_{1}(x) = \\frac{(x - x_{0})}{(x_{1} - x_{0})}.\n",
    "\\end{equation}\n",
    "\n",
    "**Quadratic interpolation (n=2):**\n",
    "\n",
    "Given three values, $f(x_{0})$, $f(x_{1})$, and $f(x_{2})$ at points $x_{0}$, $x_{1}$, and $x_{2}$, respectively, the unique parabola (polynomial of degree $n=2$) that passes through these points is given by\n",
    "\n",
    "\\begin{equation}\n",
    "   p(x) = L_{0}(x)f(x_{0}) + L_{1}(x)f(x_{1}) +  L_{2}(x)f(x_{2})\n",
    "\\end{equation}\n",
    "\n",
    "where \n",
    "\n",
    "\\begin{equation}\n",
    "   L_{0}(x) = \\frac{(x - x_{1})(x - x_{2})}{(x_{0} - x_{1})(x_{0} - x_{2})}\n",
    "   \\quad,\\quad\n",
    "   L_{1}(x) = \\frac{(x - x_{0})(x - x_{2})}{(x_{1} - x_{0})(x_{1} - x_{2})}\n",
    "   \\quad,\\quad\n",
    "   L_{2}(x) = \\frac{(x - x_{0})(x - x_{1})}{(x_{2} - x_{0})(x_{2} - x_{1})}.\n",
    "\\end{equation}\n",
    "\n",
    "**Cubic interpolation (n=3):**\n",
    "\n",
    "Given four values, $f(x_{0})$, $f(x_{1})$, $f(x_{2})$ and $f(x_{3})$ at points $x_{0}$, $x_{1}$, $x_{2}$ and $x_{3}$, respectively, the unique cubic (polynomial of degree $n=3$) that passes through these points is given by\n",
    "\n",
    "\\begin{equation}\n",
    "   p(x) = L_{0}(x)f(x_{0}) + L_{1}(x)f(x_{1}) +  L_{2}(x)f(x_{2}) +  L_{3}(x)f(x_{3})\n",
    "\\end{equation}\n",
    "\n",
    "where \n",
    "\n",
    "\\begin{align}\n",
    "   & L_{0}(x) = \\frac{(x - x_{1})(x - x_{2})(x - x_{3})}{(x_{0} - x_{1})(x_{0} - x_{2})(x_{0} - x_{3})}\n",
    "   \\quad,\\quad\n",
    "   L_{1}(x) = \\frac{(x - x_{0})(x - x_{2})(x - x_{3})}{(x_{1} - x_{0})(x_{1} - x_{2})(x_{1} - x_{3})}\n",
    "   \\\\\n",
    "   \\\\\n",
    "   & L_{2}(x) = \\frac{(x - x_{0})(x - x_{1})(x - x_{3})}{(x_{2} - x_{0})(x_{2} - x_{1})(x_{2} - x_{3})}\n",
    "   \\quad,\\quad\n",
    "   L_{3}(x) = \\frac{(x - x_{0})(x - x_{1})(x - x_{2})}{(x_{3} - x_{0})(x_{3} - x_{1})(x_{3} - x_{2})}\n",
    "\\end{align}\n",
    "\n",
    "If we consider this cubic case, notice that each of the Lagrangian coefficient functions $L_{i}(x)$ are themselves cubic polynomials. It follows that $p(x)$ is also a cubic polynomial, since it is just the sum of several cubic polynomials. Second, notice that each $L_{i}(x)$ has the property $L_{i}(x_{j})=\\delta_{ij}$. As a result, $p(x_{j})=f(x_{j})$ for $j=0,\\ldots,3$, as we required.\n",
    "\n",
    "These properties hold in general. Given $n+1$ data, the $n+1$ functions $L_{i}(x)$ are polynomials of degree $n$, and therefore so too is $p(x)$. Also each $L_{i}(x)$ has the property $L_{i}(x_{j})=\\delta_{ij}$. As a result, $p(x_{j})=f(x_{j})$ for $j=0,\\ldots,n$, as required.\n",
    "\n",
    "Now we turn to implementing this in a program that produces an interpolating polynomial for a given set of data points. By plotting the results, you will be able to verify the above statements for yourself."
   ]
  },
  {
   "cell_type": "markdown",
   "metadata": {},
   "source": [
    "## 1. Call a Function from Another File\n",
    "Write a simple function and save it in its own file. Then call that function from a \"main\" code (this could be a different file or a Jupyter notebook). To do this, you need the appropriate header in the main code that tells it about the function file. As always, test your code before moving on."
   ]
  },
  {
   "cell_type": "code",
   "execution_count": null,
   "metadata": {},
   "outputs": [],
   "source": [
    "%%writefile toyfxn.py\n",
    "def double_it(x):\n",
    "    \"\"\"\n",
    "    Simple function that takes a number and multiplies it by 2\n",
    "    \n",
    "    INPUT\n",
    "    x  : a single number\n",
    "    \n",
    "    OUTPUT\n",
    "    y  : the given number multiplied by 2\n",
    "    \n",
    "    \"\"\"\n",
    "    #YOUR CODE HERE"
   ]
  },
  {
   "cell_type": "code",
   "execution_count": null,
   "metadata": {},
   "outputs": [],
   "source": [
    "%%writefile toy.py\n",
    "from toyfxn import double_it\n",
    "\n",
    "#YOUR CODE HERE"
   ]
  },
  {
   "cell_type": "code",
   "execution_count": null,
   "metadata": {},
   "outputs": [],
   "source": [
    "%run toy.py"
   ]
  },
  {
   "cell_type": "markdown",
   "metadata": {},
   "source": [
    "## 2. Interpolation Function\n",
    "We eventually want to write a program that takes a bunch of data points as input and produces a plot of the interpolating polynomial as output. The workhorse of that code is the actual interpolation function, which has the following pseudocode.\n",
    "\n",
    "**ALGORITHM**\n",
    "\n",
    "INPUT: an array of points where the data are given, $\\mathsf{xdata}=[\\tilde{x}_{0},\\ldots,\\tilde{x}_{n}]$, an array of the data themselves, $\\mathsf{ydata}=[f(\\tilde{x}_{0}),\\ldots,f(\\tilde{x}_{n})]$, and an array of points where we want to know the interpolated polynomial, $\\mathsf{x}=[x_{0},\\ldots,x_{N}]$\n",
    "\n",
    "OUTPUT: the array of interpolated values, $\\mathsf{y}=[p(x_{0}),\\ldots,p(x_{N})]$\n",
    "\n",
    "* Step 1. n = size of xdata array\n",
    "\n",
    "\n",
    "* Step 2. initialize output array: p=0\n",
    "\n",
    "\n",
    "* Step 3. loop to calculate p;\n",
    "  for i in (0,...,n):\n",
    "  \n",
    "    * initialize L=1\n",
    "    \n",
    "    * loop to calculate L;\n",
    "      for j in (0,...,n):\n",
    "\n",
    "         * if j $\\neq$ i, update L:\n",
    "         \n",
    "           numerator = x - xdata[i]\n",
    "         \n",
    "           denominator = xdata[j] - xdata[i]\n",
    "           \n",
    "           L = L * (numerator)/(denominator)         \n",
    "    \n",
    "    * update p: p = p + L*fdata[i]\n",
    "\n",
    "\n",
    "* Step 4. return p\n",
    "\n",
    "\n",
    "Write a function that implements this algorithm. Store the function in its own file. Test the function by calling it from a \"main\" code (different file or notebook).\n",
    "\n",
    "TEST #1: create a quadratic function, sample it at $\\mathsf{xdata}=[-2, 0, 2]$, then use your code to calculate the interpolated values on the grid $\\mathsf{x}=[-5, -4, -3, -2, -1, 0, 1, 2, 3, 4, 5]$. Also calculate the exact values of the quadratic function on the same grid. The two printed out arrays should agree exactly. (An easy way to check this is to print the error, or difference between the exact and interpolated functions.)\n",
    "\n",
    "TEST #2: create a quartic function, sample it at $\\mathsf{xdata}=[-4, -2, 0, 2, 4]$, and compare the interpolated values with the exact values on the same output grid above. Again, the two sets of values should agree exactly, or equivalently the error should be zero everywhere."
   ]
  },
  {
   "cell_type": "code",
   "execution_count": null,
   "metadata": {},
   "outputs": [],
   "source": [
    "%%writefile intrpf.py\n",
    "def intrpf(x, xdata, fdata) :\n",
    "    \"\"\" \n",
    "    Function that interpolates the unique n-degree polynomial that passes \n",
    "    through n+1 data points.\n",
    "    \n",
    "    INPUT\n",
    "    x     : grid points where the interpolation polynomial is wanted\n",
    "    xdata : [x0,...,xn], array of grid points where function is known\n",
    "    fdata : [f0,...,fn], array of function values at given grid points\n",
    "\n",
    "    OUTPUT\n",
    "    p     : array of interpolating polynomial at desired points\n",
    "    \n",
    "    \"\"\"\n",
    "    #YOUR CODE HERE"
   ]
  },
  {
   "cell_type": "code",
   "execution_count": null,
   "metadata": {},
   "outputs": [],
   "source": [
    "%%writefile testf.py\n",
    "def test1(x):\n",
    "    #YOUR CODE HERE\n",
    "\n",
    "def test2(x):\n",
    "    #YOUR CODE HERE"
   ]
  },
  {
   "cell_type": "code",
   "execution_count": null,
   "metadata": {},
   "outputs": [],
   "source": [
    "%%writefile interpolate.py\n",
    "import numpy as np\n",
    "from intrpf import intrpf\n",
    "from testf import test1, test2\n",
    "\n",
    "## output grid\n",
    "#YOUR CODE HERE\n",
    "\n",
    "### test 1 ###\n",
    "#YOUR CODE HERE\n",
    "\n",
    "### test 2 ###\n",
    "#YOUR CODE HERE"
   ]
  },
  {
   "cell_type": "code",
   "execution_count": null,
   "metadata": {},
   "outputs": [],
   "source": [
    "%run interpolate.py"
   ]
  },
  {
   "cell_type": "markdown",
   "metadata": {},
   "source": [
    "## 3. Interpolation Program\n",
    "\n",
    "Now that we have an interpolating function that seems to work, let's create a program that uses this function to produce plots. This will provide deeper insight into what is going on. The overall program now has the following structure.\n",
    "\n",
    "**ALGORITHM**\n",
    "\n",
    "INPUT: an array of points where the data are given, $\\mathsf{xdata}=[\\tilde{x}_{0},\\ldots,\\tilde{x}_{n}]$, an array of the data themselves, $\\mathsf{ydata}=[f(\\tilde{x}_{0}),\\ldots,f(\\tilde{x}_{n})]$, and an array of points where we want to know the interpolated polynomial, $\\mathsf{x}=[x_{0},\\ldots,x_{N}]$\n",
    "\n",
    "OUTPUT: a graph showing both the input data points and the interpolating polynomial, $p(x)$.\n",
    "\n",
    "Step 1: specify input data arrays $\\mathsf{xdata}$ and $\\mathsf{fdata}$\n",
    "\n",
    "Step 2: setup array of output grid points $\\mathsf{x}$\n",
    "\n",
    "Step 3: call interpolation routine, returns array of values $\\mathsf{p}$\n",
    "\n",
    "Step 4: plot results, store in a file\n",
    "\n",
    "The last step is the only new one. Add this step to your main code. Repeat the two previous tests above, except now plotting the results instead of merely printing them out. Then try a more interesting test: perform a quartic interpolation of sine using $\\mathsf{xdata}=[-4,-2,0,2,4]$. Plot the data points, the interpolating polynomial, and the exact sine curve on the same figure."
   ]
  },
  {
   "cell_type": "code",
   "execution_count": null,
   "metadata": {},
   "outputs": [],
   "source": [
    "%%writefile interpolate.py\n",
    "#YOUR CODE HERE"
   ]
  },
  {
   "cell_type": "code",
   "execution_count": null,
   "metadata": {},
   "outputs": [],
   "source": [
    "%run interpolate.py"
   ]
  },
  {
   "cell_type": "markdown",
   "metadata": {},
   "source": [
    "## Interpolating a Bessel function\n",
    "Let's apply your code to determine the values of the Bessel function of the first kind. Bessel functions are examples of special functions, which are functions that cannot be expressed in terms of more basic elementary functions. In the old days, one often had to look up tables of values and use interpolation to calculate these functions at points not included in the table. Today there are programs that can calculate these functions at arbitrary points, but the calculations can be computationally expensive, especially if they need to be called many times. So one might prefer to use an interpolated approximation instead, for the sake of speed.\n",
    "\n",
    "Below is a table for the Bessel functions $J_{1}(x)$ from $x=0$ to $x=10.0$. \n",
    "\n",
    "\\begin{align*}\n",
    "   J_1(0.0) &= 0.00000\\,00000 \\\\\n",
    "   J_1(1.0) &= 0.44005\\,05857 \\\\\n",
    "   J_1(2.0) &= 0.57672\\,48078 \\\\\n",
    "   J_1(3.0) &= 0.33905\\,89585 \\\\\n",
    "   J_1(4.0) &= -0.06604\\,33280 \\\\\n",
    "   J_1(5.0) &= -0.32757\\,91376 \\\\\n",
    "   J_1(6.0) &= -0.27668\\,38581 \\\\\n",
    "   J_1(7.0) &= -0.00468\\,28235 \\\\\n",
    "   J_1(8.0) &= 0.23463\\,63469 \\\\\n",
    "   J_1(9.0) &= 0.24531\\,17866 \\\\\n",
    "   J_1(10.0) &= 0.04347\\,27462\n",
    "\\end{align*}\n",
    "\n",
    "Use these tabulated data and your interpolation code to obtain an approximation to $J_1(x)$, centered on $x=4.5$. (OPTIONAL: the table can be read in from the file `bessel1_table.txt`.) Explore different interpolation orders. Generate a plot showing the data points used, the interpolation obtained, and also the exact Bessel function of the first kind, $J_{1}(x)$. To plot the later, you will need to identify the appropriate function from a scientific library and read the documentation on how to use it (MATLAB: besselj, PYTHON: scipy.special.jv or scipy.special.j1)."
   ]
  },
  {
   "cell_type": "code",
   "execution_count": null,
   "metadata": {},
   "outputs": [],
   "source": [
    "%%writefile interpolate_bessel.py\n",
    "#YOUR CODE HERE"
   ]
  },
  {
   "cell_type": "code",
   "execution_count": null,
   "metadata": {},
   "outputs": [],
   "source": [
    "%run interpolate_bessel.py"
   ]
  }
 ],
 "metadata": {
  "kernelspec": {
   "display_name": "Python 3 (ipykernel)",
   "language": "python",
   "name": "python3"
  },
  "language_info": {
   "codemirror_mode": {
    "name": "ipython",
    "version": 3
   },
   "file_extension": ".py",
   "mimetype": "text/x-python",
   "name": "python",
   "nbconvert_exporter": "python",
   "pygments_lexer": "ipython3",
   "version": "3.8.10"
  }
 },
 "nbformat": 4,
 "nbformat_minor": 2
}
