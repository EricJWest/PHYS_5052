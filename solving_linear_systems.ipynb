{
 "cells": [
  {
   "cell_type": "markdown",
   "metadata": {},
   "source": [
    "# Solving Linear Systems of Equations\n",
    "---"
   ]
  },
  {
   "cell_type": "markdown",
   "metadata": {},
   "source": [
    "## System of equations\n",
    "\n",
    "Consider a system of equations for $w$, $x$, $y$, and $z$, written in matrix form as\n",
    "\n",
    "$$\n",
    "\\left[\n",
    "  \\begin{array}{rrrr}\n",
    "    2 &  1 &  4 &  1 \\\\\n",
    "    3 &  4 & -1 & -1 \\\\\n",
    "    1 & -4 &  1 &  5 \\\\\n",
    "    2 & -2 &  1 &  3\n",
    "  \\end{array}\n",
    "\\right]\n",
    "\\left[\n",
    "  \\begin{array}{c}\n",
    "    w \\\\\n",
    "    x \\\\\n",
    "    y \\\\\n",
    "    z\n",
    "  \\end{array}\n",
    "\\right]\n",
    "=\n",
    "\\left[\n",
    "  \\begin{array}{r}\n",
    "    -4 \\\\\n",
    "     3 \\\\\n",
    "     9 \\\\\n",
    "     7\n",
    "  \\end{array}\n",
    "\\right]\n",
    "$$\n",
    "\n",
    "This can be written as $\\mathbf{A}\\vec{\\mathbf{x}} = \\vec{\\mathbf{b}}$ where\n",
    "\n",
    "$$\n",
    "  \\mathbf{A} = \n",
    "  \\left[\n",
    "  \\begin{array}{rrrr}\n",
    "    2 &  1 &  4 &  1 \\\\\n",
    "    3 &  4 & -1 & -1 \\\\\n",
    "    1 & -4 &  1 &  5 \\\\\n",
    "    2 & -2 &  1 &  3\n",
    "  \\end{array}\n",
    "  \\right] \n",
    "  \\quad\\quad,\\quad\\quad\n",
    "  \\vec{\\mathbf{x}} = \\left[\n",
    "  \\begin{array}{c}\n",
    "    w \\\\\n",
    "    x \\\\\n",
    "    y \\\\\n",
    "    z\n",
    "  \\end{array}\n",
    "  \\right]\n",
    "  \\quad\\quad\\text{, and}\\quad\\quad\n",
    "  \\vec{\\mathbf{b}} = \n",
    "  \\left[\n",
    "  \\begin{array}{r}\n",
    "    -4 \\\\\n",
    "     3 \\\\\n",
    "     9 \\\\\n",
    "     7\n",
    "  \\end{array}\n",
    "  \\right].\n",
    "$$"
   ]
  },
  {
   "cell_type": "code",
   "execution_count": 1,
   "metadata": {},
   "outputs": [],
   "source": [
    "import numpy as np\n",
    "import scipy.linalg as la"
   ]
  },
  {
   "cell_type": "code",
   "execution_count": 2,
   "metadata": {
    "scrolled": true
   },
   "outputs": [
    {
     "data": {
      "text/plain": [
       "array([[ 2,  1,  4,  1],\n",
       "       [ 3,  4, -1, -1],\n",
       "       [ 1, -4,  1,  5],\n",
       "       [ 2, -2,  1,  3]])"
      ]
     },
     "execution_count": 2,
     "metadata": {},
     "output_type": "execute_result"
    }
   ],
   "source": [
    "A = np.array([[2, 1, 4, 1], \n",
    "              [3, 4, -1, -1],\n",
    "              [1, -4, 1, 5],\n",
    "              [2, -2, 1, 3]])\n",
    "A"
   ]
  },
  {
   "cell_type": "code",
   "execution_count": 3,
   "metadata": {},
   "outputs": [
    {
     "data": {
      "text/plain": [
       "array([[-4],\n",
       "       [ 3],\n",
       "       [ 9],\n",
       "       [ 7]])"
      ]
     },
     "execution_count": 3,
     "metadata": {},
     "output_type": "execute_result"
    }
   ],
   "source": [
    "b = np.array([[-4], \n",
    "              [3], \n",
    "              [9], \n",
    "              [7]])\n",
    "b"
   ]
  },
  {
   "cell_type": "markdown",
   "metadata": {},
   "source": [
    "## Solving using solve(A, b)"
   ]
  },
  {
   "cell_type": "code",
   "execution_count": 4,
   "metadata": {
    "scrolled": true
   },
   "outputs": [
    {
     "data": {
      "text/plain": [
       "array([[ 2.],\n",
       "       [-1.],\n",
       "       [-2.],\n",
       "       [ 1.]])"
      ]
     },
     "execution_count": 4,
     "metadata": {},
     "output_type": "execute_result"
    }
   ],
   "source": [
    "la.solve(A,b)"
   ]
  },
  {
   "cell_type": "markdown",
   "metadata": {},
   "source": [
    "## Solving via LU decomposition\n",
    "\n",
    "The matrix $\\mathbf{A}$ can be decomposed as $\\mathbf{A} = \\mathbf{P}\\mathbf{L}\\mathbf{U}$, where $\\mathbf{U}$ is an upper triangular matrix, $\\mathbf{L}$ is a lower triangular matrix, and $\\mathbf{P}$ is a permutation matrix that keeps track of the row permutations (i.e., pivoting) performed when calculating $\\mathbf{L}$ and $\\mathbf{U}$. Making this replacement, the new matrix equation becomes $\\mathbf{P}\\mathbf{L}\\mathbf{U}\\vec{\\mathbf{x}} = \\vec{\\mathbf{b}}$ or equivalently\n",
    "\n",
    "$$\n",
    "\\mathbf{L}\\mathbf{U}\\vec{\\mathbf{x}} = \\mathbf{P}^{-1}\\vec{\\mathbf{b}}\n",
    "$$\n",
    "\n",
    "Letting $\\mathbf{U}\\vec{\\mathbf{x}} = \\vec{\\mathbf{y}}$ yields\n",
    "\n",
    "$$\n",
    "\\mathbf{L}\\vec{\\mathbf{y}} = \\mathbf{P}^{-1}\\vec{\\mathbf{b}} \n",
    "$$\n",
    "\n",
    "which, because $\\mathbf{L}$ is lower triangular, can quickly be solved for $\\vec{\\mathbf{y}}$ using forward substitution. With $\\vec{\\mathbf{y}}$ known, and because $\\mathbf{U}$ is upper triangular, the equation\n",
    "\n",
    "$$\n",
    "\\mathbf{U}\\vec{\\mathbf{x}} = \\vec{\\mathbf{y}} \n",
    "$$\n",
    "\n",
    "can be quickly solved for $\\vec{\\mathbf{x}}$ using backward substitution."
   ]
  },
  {
   "cell_type": "code",
   "execution_count": 6,
   "metadata": {},
   "outputs": [
    {
     "name": "stdout",
     "output_type": "stream",
     "text": [
      "[[0. 0. 1. 0.]\n",
      " [1. 0. 0. 0.]\n",
      " [0. 1. 0. 0.]\n",
      " [0. 0. 0. 1.]]\n",
      "[[1.         0.         0.         0.        ]\n",
      " [0.33333333 1.         0.         0.        ]\n",
      " [0.66666667 0.3125     1.         0.        ]\n",
      " [0.66666667 0.875      0.11764706 1.        ]]\n",
      "[[ 3.00000000e+00  4.00000000e+00 -1.00000000e+00 -1.00000000e+00]\n",
      " [ 0.00000000e+00 -5.33333333e+00  1.33333333e+00  5.33333333e+00]\n",
      " [ 0.00000000e+00  0.00000000e+00  4.25000000e+00  1.11022302e-16]\n",
      " [ 0.00000000e+00  0.00000000e+00  0.00000000e+00 -1.00000000e+00]]\n"
     ]
    }
   ],
   "source": [
    "P, L, U = la.lu(A)\n",
    "print(P) # permutation matrix\n",
    "print(L) # lower triangular\n",
    "print(U) # upper triangular"
   ]
  },
  {
   "cell_type": "code",
   "execution_count": 7,
   "metadata": {},
   "outputs": [
    {
     "data": {
      "text/plain": [
       "array([[ 2.,  1.,  4.,  1.],\n",
       "       [ 3.,  4., -1., -1.],\n",
       "       [ 1., -4.,  1.,  5.],\n",
       "       [ 2., -2.,  1.,  3.]])"
      ]
     },
     "execution_count": 7,
     "metadata": {},
     "output_type": "execute_result"
    }
   ],
   "source": [
    "P @ L @ U"
   ]
  },
  {
   "cell_type": "code",
   "execution_count": 8,
   "metadata": {},
   "outputs": [
    {
     "data": {
      "text/plain": [
       "array([[ 2.],\n",
       "       [-1.],\n",
       "       [-2.],\n",
       "       [ 1.]])"
      ]
     },
     "execution_count": 8,
     "metadata": {},
     "output_type": "execute_result"
    }
   ],
   "source": [
    "## method 1\n",
    "x = la.solve(P@L@U, b)\n",
    "x"
   ]
  },
  {
   "cell_type": "code",
   "execution_count": 9,
   "metadata": {},
   "outputs": [
    {
     "data": {
      "text/plain": [
       "array([[ 2.],\n",
       "       [-1.],\n",
       "       [-2.],\n",
       "       [ 1.]])"
      ]
     },
     "execution_count": 9,
     "metadata": {},
     "output_type": "execute_result"
    }
   ],
   "source": [
    "## method 2\n",
    "y = la.solve(P@L, b)\n",
    "x = la.solve(U,y)\n",
    "x"
   ]
  },
  {
   "cell_type": "code",
   "execution_count": 11,
   "metadata": {},
   "outputs": [
    {
     "data": {
      "text/plain": [
       "array([[ 2.],\n",
       "       [-1.],\n",
       "       [-2.],\n",
       "       [ 1.]])"
      ]
     },
     "execution_count": 11,
     "metadata": {},
     "output_type": "execute_result"
    }
   ],
   "source": [
    "## method 3\n",
    "bnew = la.inv(P) @ b\n",
    "y = la.solve(L, bnew)\n",
    "x = la.solve(U,y)\n",
    "x"
   ]
  },
  {
   "cell_type": "code",
   "execution_count": null,
   "metadata": {},
   "outputs": [],
   "source": []
  }
 ],
 "metadata": {
  "kernelspec": {
   "display_name": "Python 3",
   "language": "python",
   "name": "python3"
  },
  "language_info": {
   "codemirror_mode": {
    "name": "ipython",
    "version": 3
   },
   "file_extension": ".py",
   "mimetype": "text/x-python",
   "name": "python",
   "nbconvert_exporter": "python",
   "pygments_lexer": "ipython3",
   "version": "3.6.9"
  }
 },
 "nbformat": 4,
 "nbformat_minor": 2
}
